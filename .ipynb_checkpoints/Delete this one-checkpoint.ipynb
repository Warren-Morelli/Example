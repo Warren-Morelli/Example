{
 "cells": [
  {
   "cell_type": "markdown",
   "metadata": {},
   "source": [
    "<p align=\"left\">\n",
    "  <img src=\"Images/0LtQRdSbRRKGSIV2spAr.jpg\" width=\"600\" alt=\"example\">\n",
    "</p>"
   ]
  },
  {
   "cell_type": "markdown",
   "metadata": {},
   "source": [
    "<font size=\"6\"><b>Used Car Valuation Prediction:</b></font>\n"
   ]
  },
  {
   "cell_type": "markdown",
   "metadata": {},
   "source": [
    "<font size=\"4\"><b>A Linear Regression Model for Estimating Used Car Sale Prices</b></font>\n"
   ]
  },
  {
   "cell_type": "markdown",
   "metadata": {},
   "source": [
    "<b>Author:</b> <font size=\"2\">Warren Morelli\n",
    "    <br>\n"
   ]
  },
  {
   "cell_type": "markdown",
   "metadata": {},
   "source": [
    "<p style=\"margin: 10px 0;\"></p>"
   ]
  },
  {
   "cell_type": "markdown",
   "metadata": {},
   "source": [
    "<font size=\"3\"><b>Overview:</b></font>\n"
   ]
  },
  {
   "cell_type": "markdown",
   "metadata": {},
   "source": [
    "<font size=\"3\">A used car enterprise seeks a precise approach for predicting used car prices to facilitate their acquisition of undervalued vehicles and to accurately set prices, thus enabling profitability upon sale. My Goal: Predict the sale price of a used car based on its various features such as make, model, year, mileage, and condition.\n",
    "</font>"
   ]
  },
  {
   "cell_type": "markdown",
   "metadata": {},
   "source": [
    "<p style=\"margin: 10px 0;\"></p>"
   ]
  },
  {
   "cell_type": "markdown",
   "metadata": {},
   "source": [
    "<font size=\"3\"><b>Data:</b></font>\n"
   ]
  },
  {
   "cell_type": "markdown",
   "metadata": {},
   "source": [
    "<font size=\"3\">The data utilized in this project was sourced from the Used-Car-data CSV file in Kaggle. The data set is comprised of 7906 rows and 18 columns, providing an ample amount of information for linear regression modeling purposes. This comprehensive data set is well-suited to support the modeling process and can be expected to yield reliable results.</font>"
   ]
  },
  {
   "cell_type": "code",
   "execution_count": 1,
   "metadata": {},
   "outputs": [
    {
     "data": {
      "text/html": [
       "<div>\n",
       "<style scoped>\n",
       "    .dataframe tbody tr th:only-of-type {\n",
       "        vertical-align: middle;\n",
       "    }\n",
       "\n",
       "    .dataframe tbody tr th {\n",
       "        vertical-align: top;\n",
       "    }\n",
       "\n",
       "    .dataframe thead th {\n",
       "        text-align: right;\n",
       "    }\n",
       "</style>\n",
       "<table border=\"1\" class=\"dataframe\">\n",
       "  <thead>\n",
       "    <tr style=\"text-align: right;\">\n",
       "      <th></th>\n",
       "      <th>Sales_ID</th>\n",
       "      <th>name</th>\n",
       "      <th>year</th>\n",
       "      <th>selling_price</th>\n",
       "      <th>km_driven</th>\n",
       "      <th>Region</th>\n",
       "      <th>State or Province</th>\n",
       "      <th>City</th>\n",
       "      <th>fuel</th>\n",
       "      <th>seller_type</th>\n",
       "      <th>transmission</th>\n",
       "      <th>owner</th>\n",
       "      <th>mileage</th>\n",
       "      <th>engine</th>\n",
       "      <th>max_power</th>\n",
       "      <th>torque</th>\n",
       "      <th>seats</th>\n",
       "      <th>sold</th>\n",
       "    </tr>\n",
       "  </thead>\n",
       "  <tbody>\n",
       "    <tr>\n",
       "      <th>0</th>\n",
       "      <td>1</td>\n",
       "      <td>Maruti</td>\n",
       "      <td>2014</td>\n",
       "      <td>450000</td>\n",
       "      <td>145500</td>\n",
       "      <td>East</td>\n",
       "      <td>District of Columbia</td>\n",
       "      <td>Washington</td>\n",
       "      <td>Diesel</td>\n",
       "      <td>Individual</td>\n",
       "      <td>Manual</td>\n",
       "      <td>First_Owner</td>\n",
       "      <td>23.40</td>\n",
       "      <td>1248</td>\n",
       "      <td>74.00</td>\n",
       "      <td>190Nm@ 2000rpm</td>\n",
       "      <td>5</td>\n",
       "      <td>Y</td>\n",
       "    </tr>\n",
       "    <tr>\n",
       "      <th>1</th>\n",
       "      <td>2</td>\n",
       "      <td>Skoda</td>\n",
       "      <td>2014</td>\n",
       "      <td>370000</td>\n",
       "      <td>120000</td>\n",
       "      <td>East</td>\n",
       "      <td>New York</td>\n",
       "      <td>New York City</td>\n",
       "      <td>Diesel</td>\n",
       "      <td>Individual</td>\n",
       "      <td>Manual</td>\n",
       "      <td>Second_Owner</td>\n",
       "      <td>21.14</td>\n",
       "      <td>1498</td>\n",
       "      <td>103.52</td>\n",
       "      <td>250Nm@ 1500-2500rpm</td>\n",
       "      <td>5</td>\n",
       "      <td>Y</td>\n",
       "    </tr>\n",
       "    <tr>\n",
       "      <th>2</th>\n",
       "      <td>3</td>\n",
       "      <td>Honda</td>\n",
       "      <td>2006</td>\n",
       "      <td>158000</td>\n",
       "      <td>140000</td>\n",
       "      <td>Central</td>\n",
       "      <td>Illinois</td>\n",
       "      <td>Chicago</td>\n",
       "      <td>Petrol</td>\n",
       "      <td>Individual</td>\n",
       "      <td>Manual</td>\n",
       "      <td>Third_Owner</td>\n",
       "      <td>17.70</td>\n",
       "      <td>1497</td>\n",
       "      <td>78.00</td>\n",
       "      <td>12.7@ 2,700(kgm@ rpm)</td>\n",
       "      <td>5</td>\n",
       "      <td>Y</td>\n",
       "    </tr>\n",
       "    <tr>\n",
       "      <th>3</th>\n",
       "      <td>4</td>\n",
       "      <td>Hyundai</td>\n",
       "      <td>2010</td>\n",
       "      <td>225000</td>\n",
       "      <td>127000</td>\n",
       "      <td>Central</td>\n",
       "      <td>Illinois</td>\n",
       "      <td>Chicago</td>\n",
       "      <td>Diesel</td>\n",
       "      <td>Individual</td>\n",
       "      <td>Manual</td>\n",
       "      <td>First_Owner</td>\n",
       "      <td>23.00</td>\n",
       "      <td>1396</td>\n",
       "      <td>90.00</td>\n",
       "      <td>22.4 kgm at 1750-2750rpm</td>\n",
       "      <td>5</td>\n",
       "      <td>Y</td>\n",
       "    </tr>\n",
       "    <tr>\n",
       "      <th>4</th>\n",
       "      <td>5</td>\n",
       "      <td>Maruti</td>\n",
       "      <td>2007</td>\n",
       "      <td>130000</td>\n",
       "      <td>120000</td>\n",
       "      <td>East</td>\n",
       "      <td>New York</td>\n",
       "      <td>New York City</td>\n",
       "      <td>Petrol</td>\n",
       "      <td>Individual</td>\n",
       "      <td>Manual</td>\n",
       "      <td>First_Owner</td>\n",
       "      <td>16.10</td>\n",
       "      <td>1298</td>\n",
       "      <td>88.20</td>\n",
       "      <td>11.5@ 4,500(kgm@ rpm)</td>\n",
       "      <td>5</td>\n",
       "      <td>Y</td>\n",
       "    </tr>\n",
       "  </tbody>\n",
       "</table>\n",
       "</div>"
      ],
      "text/plain": [
       "   Sales_ID     name  year  selling_price  km_driven   Region  \\\n",
       "0         1   Maruti  2014         450000     145500     East   \n",
       "1         2    Skoda  2014         370000     120000     East   \n",
       "2         3    Honda  2006         158000     140000  Central   \n",
       "3         4  Hyundai  2010         225000     127000  Central   \n",
       "4         5   Maruti  2007         130000     120000     East   \n",
       "\n",
       "      State or Province           City    fuel seller_type transmission  \\\n",
       "0  District of Columbia     Washington  Diesel  Individual       Manual   \n",
       "1              New York  New York City  Diesel  Individual       Manual   \n",
       "2              Illinois        Chicago  Petrol  Individual       Manual   \n",
       "3              Illinois        Chicago  Diesel  Individual       Manual   \n",
       "4              New York  New York City  Petrol  Individual       Manual   \n",
       "\n",
       "          owner  mileage  engine  max_power                    torque  seats  \\\n",
       "0   First_Owner    23.40    1248      74.00            190Nm@ 2000rpm      5   \n",
       "1  Second_Owner    21.14    1498     103.52       250Nm@ 1500-2500rpm      5   \n",
       "2   Third_Owner    17.70    1497      78.00     12.7@ 2,700(kgm@ rpm)      5   \n",
       "3   First_Owner    23.00    1396      90.00  22.4 kgm at 1750-2750rpm      5   \n",
       "4   First_Owner    16.10    1298      88.20     11.5@ 4,500(kgm@ rpm)      5   \n",
       "\n",
       "  sold  \n",
       "0    Y  \n",
       "1    Y  \n",
       "2    Y  \n",
       "3    Y  \n",
       "4    Y  "
      ]
     },
     "execution_count": 1,
     "metadata": {},
     "output_type": "execute_result"
    }
   ],
   "source": [
    "import pandas as pd\n",
    "import numpy as np\n",
    "data = pd.read_csv(\"data/UserCarData.csv\")\n",
    "df = pd.read_csv(\"data/UserCarData.csv\")\n",
    "data.head()"
   ]
  },
  {
   "cell_type": "markdown",
   "metadata": {},
   "source": [
    "<p style=\"margin: 10px 0;\"></p>"
   ]
  },
  {
   "cell_type": "markdown",
   "metadata": {},
   "source": [
    "<font msize=\"3\"><b>Inspect data:</b></font>"
   ]
  },
  {
   "cell_type": "markdown",
   "metadata": {},
   "source": [
    "<font size=\"3\">Upon conducting an initial review of the data, it was observed that there is no data missing and the data types looked corect. .</font>"
   ]
  },
  {
   "cell_type": "code",
   "execution_count": 2,
   "metadata": {},
   "outputs": [
    {
     "name": "stdout",
     "output_type": "stream",
     "text": [
      "<class 'pandas.core.frame.DataFrame'>\n",
      "RangeIndex: 7906 entries, 0 to 7905\n",
      "Data columns (total 18 columns):\n",
      " #   Column             Non-Null Count  Dtype  \n",
      "---  ------             --------------  -----  \n",
      " 0   Sales_ID           7906 non-null   int64  \n",
      " 1   name               7906 non-null   object \n",
      " 2   year               7906 non-null   int64  \n",
      " 3   selling_price      7906 non-null   int64  \n",
      " 4   km_driven          7906 non-null   int64  \n",
      " 5   Region             7906 non-null   object \n",
      " 6   State or Province  7906 non-null   object \n",
      " 7   City               7906 non-null   object \n",
      " 8   fuel               7906 non-null   object \n",
      " 9   seller_type        7906 non-null   object \n",
      " 10  transmission       7906 non-null   object \n",
      " 11  owner              7906 non-null   object \n",
      " 12  mileage            7906 non-null   float64\n",
      " 13  engine             7906 non-null   int64  \n",
      " 14  max_power          7906 non-null   float64\n",
      " 15  torque             7906 non-null   object \n",
      " 16  seats              7906 non-null   int64  \n",
      " 17  sold               7906 non-null   object \n",
      "dtypes: float64(2), int64(6), object(10)\n",
      "memory usage: 1.1+ MB\n"
     ]
    }
   ],
   "source": [
    "data.info()"
   ]
  },
  {
   "cell_type": "markdown",
   "metadata": {},
   "source": [
    "<p style=\"margin: 10px 0;\"></p>"
   ]
  },
  {
   "cell_type": "markdown",
   "metadata": {},
   "source": [
    "<font msize=\"3\"><b>Clean Data</b></font>"
   ]
  },
  {
   "cell_type": "markdown",
   "metadata": {},
   "source": [
    "<font size=\"3\">I started by dropping the values that are irrelevant to the sale price.</font>"
   ]
  },
  {
   "cell_type": "code",
   "execution_count": 3,
   "metadata": {},
   "outputs": [
    {
     "data": {
      "text/html": [
       "<div>\n",
       "<style scoped>\n",
       "    .dataframe tbody tr th:only-of-type {\n",
       "        vertical-align: middle;\n",
       "    }\n",
       "\n",
       "    .dataframe tbody tr th {\n",
       "        vertical-align: top;\n",
       "    }\n",
       "\n",
       "    .dataframe thead th {\n",
       "        text-align: right;\n",
       "    }\n",
       "</style>\n",
       "<table border=\"1\" class=\"dataframe\">\n",
       "  <thead>\n",
       "    <tr style=\"text-align: right;\">\n",
       "      <th></th>\n",
       "      <th>name</th>\n",
       "      <th>year</th>\n",
       "      <th>selling_price</th>\n",
       "      <th>km_driven</th>\n",
       "      <th>fuel</th>\n",
       "      <th>transmission</th>\n",
       "      <th>mileage</th>\n",
       "      <th>engine</th>\n",
       "      <th>max_power</th>\n",
       "      <th>seats</th>\n",
       "    </tr>\n",
       "  </thead>\n",
       "  <tbody>\n",
       "    <tr>\n",
       "      <th>0</th>\n",
       "      <td>Maruti</td>\n",
       "      <td>2014</td>\n",
       "      <td>450000</td>\n",
       "      <td>145500</td>\n",
       "      <td>Diesel</td>\n",
       "      <td>Manual</td>\n",
       "      <td>23.40</td>\n",
       "      <td>1248</td>\n",
       "      <td>74.00</td>\n",
       "      <td>5</td>\n",
       "    </tr>\n",
       "    <tr>\n",
       "      <th>1</th>\n",
       "      <td>Skoda</td>\n",
       "      <td>2014</td>\n",
       "      <td>370000</td>\n",
       "      <td>120000</td>\n",
       "      <td>Diesel</td>\n",
       "      <td>Manual</td>\n",
       "      <td>21.14</td>\n",
       "      <td>1498</td>\n",
       "      <td>103.52</td>\n",
       "      <td>5</td>\n",
       "    </tr>\n",
       "    <tr>\n",
       "      <th>2</th>\n",
       "      <td>Honda</td>\n",
       "      <td>2006</td>\n",
       "      <td>158000</td>\n",
       "      <td>140000</td>\n",
       "      <td>Petrol</td>\n",
       "      <td>Manual</td>\n",
       "      <td>17.70</td>\n",
       "      <td>1497</td>\n",
       "      <td>78.00</td>\n",
       "      <td>5</td>\n",
       "    </tr>\n",
       "    <tr>\n",
       "      <th>3</th>\n",
       "      <td>Hyundai</td>\n",
       "      <td>2010</td>\n",
       "      <td>225000</td>\n",
       "      <td>127000</td>\n",
       "      <td>Diesel</td>\n",
       "      <td>Manual</td>\n",
       "      <td>23.00</td>\n",
       "      <td>1396</td>\n",
       "      <td>90.00</td>\n",
       "      <td>5</td>\n",
       "    </tr>\n",
       "    <tr>\n",
       "      <th>4</th>\n",
       "      <td>Maruti</td>\n",
       "      <td>2007</td>\n",
       "      <td>130000</td>\n",
       "      <td>120000</td>\n",
       "      <td>Petrol</td>\n",
       "      <td>Manual</td>\n",
       "      <td>16.10</td>\n",
       "      <td>1298</td>\n",
       "      <td>88.20</td>\n",
       "      <td>5</td>\n",
       "    </tr>\n",
       "  </tbody>\n",
       "</table>\n",
       "</div>"
      ],
      "text/plain": [
       "      name  year  selling_price  km_driven    fuel transmission  mileage  \\\n",
       "0   Maruti  2014         450000     145500  Diesel       Manual    23.40   \n",
       "1    Skoda  2014         370000     120000  Diesel       Manual    21.14   \n",
       "2    Honda  2006         158000     140000  Petrol       Manual    17.70   \n",
       "3  Hyundai  2010         225000     127000  Diesel       Manual    23.00   \n",
       "4   Maruti  2007         130000     120000  Petrol       Manual    16.10   \n",
       "\n",
       "   engine  max_power  seats  \n",
       "0    1248      74.00      5  \n",
       "1    1498     103.52      5  \n",
       "2    1497      78.00      5  \n",
       "3    1396      90.00      5  \n",
       "4    1298      88.20      5  "
      ]
     },
     "execution_count": 3,
     "metadata": {},
     "output_type": "execute_result"
    }
   ],
   "source": [
    "#Data has no null values\n",
    "#Drop unwanted columns\n",
    "data.drop('sold', inplace=True, axis=1)\n",
    "data.drop('torque', inplace=True, axis=1)\n",
    "data.drop('owner', inplace=True, axis=1)\n",
    "data.drop('seller_type', inplace=True, axis=1)\n",
    "data.drop('City', inplace=True, axis=1)\n",
    "data.drop('State or Province', inplace=True, axis=1)\n",
    "data.drop('Region', inplace=True, axis=1)\n",
    "data.drop('Sales_ID', inplace=True, axis=1)\n",
    "data.head()"
   ]
  },
  {
   "cell_type": "markdown",
   "metadata": {},
   "source": [
    "<p style=\"margin: 10px 0;\"></p>"
   ]
  },
  {
   "cell_type": "markdown",
   "metadata": {},
   "source": [
    "<font size=\"3\">The selection of a car brand significantly influences its sales price, albeit with a multitude of variables. To facilitate a more structured approach, I have decided to categorize the brands into three distinct value groups - High, Medium, and Low.</font>"
   ]
  },
  {
   "cell_type": "code",
   "execution_count": 4,
   "metadata": {},
   "outputs": [
    {
     "name": "stdout",
     "output_type": "stream",
     "text": [
      "['Maruti' 'Skoda' 'Honda' 'Hyundai' 'Toyota' 'Ford' 'Renault' 'Mahindra'\n",
      " 'Tata' 'Chevrolet' 'Datsun' 'Jeep' 'Mercedes' 'Mitsubishi' 'Audi'\n",
      " 'Volkswagen' 'BMW' 'Nissan' 'Lexus' 'Jaguar' 'Land' 'MG' 'Volvo' 'Daewoo'\n",
      " 'Kia' 'Fiat' 'Force' 'Ambassador' 'Ashok' 'Isuzu' 'Opel']\n",
      "31\n"
     ]
    }
   ],
   "source": [
    "print(data.name.unique())\n",
    "print(data.name.nunique())"
   ]
  },
  {
   "cell_type": "code",
   "execution_count": 5,
   "metadata": {
    "scrolled": true
   },
   "outputs": [
    {
     "data": {
      "text/plain": [
       "name\n",
       "Lexus         5.150000e+06\n",
       "BMW           4.153814e+06\n",
       "Land          3.608333e+06\n",
       "Volvo         3.272015e+06\n",
       "Jaguar        2.915465e+06\n",
       "Audi          2.612200e+06\n",
       "Mercedes      2.470444e+06\n",
       "Jeep          2.149613e+06\n",
       "Isuzu         1.942000e+06\n",
       "MG            1.783333e+06\n",
       "Kia           1.504500e+06\n",
       "Toyota        1.011920e+06\n",
       "Force         8.875000e+05\n",
       "Mitsubishi    8.175000e+05\n",
       "Mahindra      6.300211e+05\n",
       "Skoda         6.097211e+05\n",
       "Honda         5.969209e+05\n",
       "Ford          5.208737e+05\n",
       "Volkswagen    4.898919e+05\n",
       "Hyundai       4.732805e+05\n",
       "Nissan        4.654074e+05\n",
       "Renault       4.626184e+05\n",
       "Maruti        4.090111e+05\n",
       "Tata          3.618538e+05\n",
       "Fiat          3.171951e+05\n",
       "Datsun        3.146000e+05\n",
       "Ashok         3.000000e+05\n",
       "Chevrolet     2.738675e+05\n",
       "Ambassador    1.240000e+05\n",
       "Daewoo        7.700000e+04\n",
       "Opel          6.800000e+04\n",
       "Name: selling_price, dtype: float64"
      ]
     },
     "execution_count": 5,
     "metadata": {},
     "output_type": "execute_result"
    }
   ],
   "source": [
    "groupby = data.groupby('name')['selling_price'].mean()\n",
    "groupby = groupby.sort_values(ascending=False)\n",
    "groupby"
   ]
  },
  {
   "cell_type": "code",
   "execution_count": 6,
   "metadata": {},
   "outputs": [],
   "source": [
    "#Select the 3 groups\n",
    "low_budget_brand = groupby.iloc[20:31]\n",
    "mid_budget_brand = groupby.iloc[10:20]\n",
    "high_budget_brand = groupby.iloc[0:10]"
   ]
  },
  {
   "cell_type": "code",
   "execution_count": 7,
   "metadata": {},
   "outputs": [
    {
     "data": {
      "text/html": [
       "<div>\n",
       "<style scoped>\n",
       "    .dataframe tbody tr th:only-of-type {\n",
       "        vertical-align: middle;\n",
       "    }\n",
       "\n",
       "    .dataframe tbody tr th {\n",
       "        vertical-align: top;\n",
       "    }\n",
       "\n",
       "    .dataframe thead th {\n",
       "        text-align: right;\n",
       "    }\n",
       "</style>\n",
       "<table border=\"1\" class=\"dataframe\">\n",
       "  <thead>\n",
       "    <tr style=\"text-align: right;\">\n",
       "      <th></th>\n",
       "      <th>year</th>\n",
       "      <th>selling_price</th>\n",
       "      <th>km_driven</th>\n",
       "      <th>fuel</th>\n",
       "      <th>transmission</th>\n",
       "      <th>mileage</th>\n",
       "      <th>engine</th>\n",
       "      <th>max_power</th>\n",
       "      <th>seats</th>\n",
       "      <th>low_budget_brand</th>\n",
       "      <th>mid_budget_brand</th>\n",
       "      <th>high_budget_brand</th>\n",
       "    </tr>\n",
       "  </thead>\n",
       "  <tbody>\n",
       "    <tr>\n",
       "      <th>0</th>\n",
       "      <td>2014</td>\n",
       "      <td>450000</td>\n",
       "      <td>145500</td>\n",
       "      <td>Diesel</td>\n",
       "      <td>Manual</td>\n",
       "      <td>23.40</td>\n",
       "      <td>1248</td>\n",
       "      <td>74.00</td>\n",
       "      <td>5</td>\n",
       "      <td>1</td>\n",
       "      <td>0</td>\n",
       "      <td>0</td>\n",
       "    </tr>\n",
       "    <tr>\n",
       "      <th>1</th>\n",
       "      <td>2014</td>\n",
       "      <td>370000</td>\n",
       "      <td>120000</td>\n",
       "      <td>Diesel</td>\n",
       "      <td>Manual</td>\n",
       "      <td>21.14</td>\n",
       "      <td>1498</td>\n",
       "      <td>103.52</td>\n",
       "      <td>5</td>\n",
       "      <td>0</td>\n",
       "      <td>1</td>\n",
       "      <td>0</td>\n",
       "    </tr>\n",
       "    <tr>\n",
       "      <th>2</th>\n",
       "      <td>2006</td>\n",
       "      <td>158000</td>\n",
       "      <td>140000</td>\n",
       "      <td>Petrol</td>\n",
       "      <td>Manual</td>\n",
       "      <td>17.70</td>\n",
       "      <td>1497</td>\n",
       "      <td>78.00</td>\n",
       "      <td>5</td>\n",
       "      <td>0</td>\n",
       "      <td>1</td>\n",
       "      <td>0</td>\n",
       "    </tr>\n",
       "    <tr>\n",
       "      <th>3</th>\n",
       "      <td>2010</td>\n",
       "      <td>225000</td>\n",
       "      <td>127000</td>\n",
       "      <td>Diesel</td>\n",
       "      <td>Manual</td>\n",
       "      <td>23.00</td>\n",
       "      <td>1396</td>\n",
       "      <td>90.00</td>\n",
       "      <td>5</td>\n",
       "      <td>0</td>\n",
       "      <td>1</td>\n",
       "      <td>0</td>\n",
       "    </tr>\n",
       "    <tr>\n",
       "      <th>4</th>\n",
       "      <td>2007</td>\n",
       "      <td>130000</td>\n",
       "      <td>120000</td>\n",
       "      <td>Petrol</td>\n",
       "      <td>Manual</td>\n",
       "      <td>16.10</td>\n",
       "      <td>1298</td>\n",
       "      <td>88.20</td>\n",
       "      <td>5</td>\n",
       "      <td>1</td>\n",
       "      <td>0</td>\n",
       "      <td>0</td>\n",
       "    </tr>\n",
       "  </tbody>\n",
       "</table>\n",
       "</div>"
      ],
      "text/plain": [
       "   year  selling_price  km_driven    fuel transmission  mileage  engine  \\\n",
       "0  2014         450000     145500  Diesel       Manual    23.40    1248   \n",
       "1  2014         370000     120000  Diesel       Manual    21.14    1498   \n",
       "2  2006         158000     140000  Petrol       Manual    17.70    1497   \n",
       "3  2010         225000     127000  Diesel       Manual    23.00    1396   \n",
       "4  2007         130000     120000  Petrol       Manual    16.10    1298   \n",
       "\n",
       "   max_power  seats  low_budget_brand  mid_budget_brand  high_budget_brand  \n",
       "0      74.00      5                 1                 0                  0  \n",
       "1     103.52      5                 0                 1                  0  \n",
       "2      78.00      5                 0                 1                  0  \n",
       "3      90.00      5                 0                 1                  0  \n",
       "4      88.20      5                 1                 0                  0  "
      ]
     },
     "execution_count": 7,
     "metadata": {},
     "output_type": "execute_result"
    }
   ],
   "source": [
    "#create new columns out of these groups\n",
    "data['low_budget_brand'] = data['name'].apply(lambda x: x in low_budget_brand)\n",
    "data['low_budget_brand'] = data['low_budget_brand'].astype(int)\n",
    "\n",
    "data['mid_budget_brand'] = data['name'].apply(lambda x: x in mid_budget_brand)\n",
    "data['mid_budget_brand'] = data['mid_budget_brand'].astype(int)\n",
    "\n",
    "data['high_budget_brand'] = data['name'].apply(lambda x: x in high_budget_brand)\n",
    "data['high_budget_brand'] = data['high_budget_brand'].astype(int)\n",
    "\n",
    "data.drop('name', inplace=True, axis=1)\n",
    "\n",
    "data.head()"
   ]
  },
  {
   "cell_type": "markdown",
   "metadata": {},
   "source": [
    "<p style=\"margin: 10px 0;\"></p>"
   ]
  },
  {
   "cell_type": "markdown",
   "metadata": {},
   "source": [
    "<font size=\"3\">There are too many car seat variables. I need to slipt into 2 groups</font>"
   ]
  },
  {
   "cell_type": "code",
   "execution_count": 8,
   "metadata": {},
   "outputs": [
    {
     "data": {
      "text/html": [
       "<div>\n",
       "<style scoped>\n",
       "    .dataframe tbody tr th:only-of-type {\n",
       "        vertical-align: middle;\n",
       "    }\n",
       "\n",
       "    .dataframe tbody tr th {\n",
       "        vertical-align: top;\n",
       "    }\n",
       "\n",
       "    .dataframe thead th {\n",
       "        text-align: right;\n",
       "    }\n",
       "</style>\n",
       "<table border=\"1\" class=\"dataframe\">\n",
       "  <thead>\n",
       "    <tr style=\"text-align: right;\">\n",
       "      <th></th>\n",
       "      <th>year</th>\n",
       "      <th>selling_price</th>\n",
       "      <th>km_driven</th>\n",
       "      <th>fuel</th>\n",
       "      <th>transmission</th>\n",
       "      <th>mileage</th>\n",
       "      <th>engine</th>\n",
       "      <th>max_power</th>\n",
       "      <th>low_budget_brand</th>\n",
       "      <th>mid_budget_brand</th>\n",
       "      <th>high_budget_brand</th>\n",
       "      <th>seats_0-4</th>\n",
       "      <th>seats_5+</th>\n",
       "    </tr>\n",
       "  </thead>\n",
       "  <tbody>\n",
       "    <tr>\n",
       "      <th>0</th>\n",
       "      <td>2014</td>\n",
       "      <td>450000</td>\n",
       "      <td>145500</td>\n",
       "      <td>Diesel</td>\n",
       "      <td>Manual</td>\n",
       "      <td>23.40</td>\n",
       "      <td>1248</td>\n",
       "      <td>74.00</td>\n",
       "      <td>1</td>\n",
       "      <td>0</td>\n",
       "      <td>0</td>\n",
       "      <td>0</td>\n",
       "      <td>1</td>\n",
       "    </tr>\n",
       "    <tr>\n",
       "      <th>1</th>\n",
       "      <td>2014</td>\n",
       "      <td>370000</td>\n",
       "      <td>120000</td>\n",
       "      <td>Diesel</td>\n",
       "      <td>Manual</td>\n",
       "      <td>21.14</td>\n",
       "      <td>1498</td>\n",
       "      <td>103.52</td>\n",
       "      <td>0</td>\n",
       "      <td>1</td>\n",
       "      <td>0</td>\n",
       "      <td>0</td>\n",
       "      <td>1</td>\n",
       "    </tr>\n",
       "    <tr>\n",
       "      <th>2</th>\n",
       "      <td>2006</td>\n",
       "      <td>158000</td>\n",
       "      <td>140000</td>\n",
       "      <td>Petrol</td>\n",
       "      <td>Manual</td>\n",
       "      <td>17.70</td>\n",
       "      <td>1497</td>\n",
       "      <td>78.00</td>\n",
       "      <td>0</td>\n",
       "      <td>1</td>\n",
       "      <td>0</td>\n",
       "      <td>0</td>\n",
       "      <td>1</td>\n",
       "    </tr>\n",
       "    <tr>\n",
       "      <th>3</th>\n",
       "      <td>2010</td>\n",
       "      <td>225000</td>\n",
       "      <td>127000</td>\n",
       "      <td>Diesel</td>\n",
       "      <td>Manual</td>\n",
       "      <td>23.00</td>\n",
       "      <td>1396</td>\n",
       "      <td>90.00</td>\n",
       "      <td>0</td>\n",
       "      <td>1</td>\n",
       "      <td>0</td>\n",
       "      <td>0</td>\n",
       "      <td>1</td>\n",
       "    </tr>\n",
       "    <tr>\n",
       "      <th>4</th>\n",
       "      <td>2007</td>\n",
       "      <td>130000</td>\n",
       "      <td>120000</td>\n",
       "      <td>Petrol</td>\n",
       "      <td>Manual</td>\n",
       "      <td>16.10</td>\n",
       "      <td>1298</td>\n",
       "      <td>88.20</td>\n",
       "      <td>1</td>\n",
       "      <td>0</td>\n",
       "      <td>0</td>\n",
       "      <td>0</td>\n",
       "      <td>1</td>\n",
       "    </tr>\n",
       "  </tbody>\n",
       "</table>\n",
       "</div>"
      ],
      "text/plain": [
       "   year  selling_price  km_driven    fuel transmission  mileage  engine  \\\n",
       "0  2014         450000     145500  Diesel       Manual    23.40    1248   \n",
       "1  2014         370000     120000  Diesel       Manual    21.14    1498   \n",
       "2  2006         158000     140000  Petrol       Manual    17.70    1497   \n",
       "3  2010         225000     127000  Diesel       Manual    23.00    1396   \n",
       "4  2007         130000     120000  Petrol       Manual    16.10    1298   \n",
       "\n",
       "   max_power  low_budget_brand  mid_budget_brand  high_budget_brand  \\\n",
       "0      74.00                 1                 0                  0   \n",
       "1     103.52                 0                 1                  0   \n",
       "2      78.00                 0                 1                  0   \n",
       "3      90.00                 0                 1                  0   \n",
       "4      88.20                 1                 0                  0   \n",
       "\n",
       "   seats_0-4  seats_5+  \n",
       "0          0         1  \n",
       "1          0         1  \n",
       "2          0         1  \n",
       "3          0         1  \n",
       "4          0         1  "
      ]
     },
     "execution_count": 8,
     "metadata": {},
     "output_type": "execute_result"
    }
   ],
   "source": [
    "data['seats_0-4'] = data['seats'].apply(lambda x: True if x <= 4 else False)\n",
    "data['seats_0-4'] = data['seats_0-4'].astype(int)\n",
    "\n",
    "data['seats_5+'] = data['seats'].apply(lambda x: True if x >= 5 else False)\n",
    "data['seats_5+'] = data['seats_5+'].astype(int)\n",
    "\n",
    "data.drop('seats', inplace=True, axis=1)\n",
    "\n",
    "data.head()"
   ]
  },
  {
   "cell_type": "markdown",
   "metadata": {},
   "source": [
    "<p style=\"margin: 10px 0;\"></p>"
   ]
  },
  {
   "cell_type": "markdown",
   "metadata": {},
   "source": [
    "<font size=\"3\">The fuel types 'CNG' and 'LPG' have very low values. I will drop those rows to make my model more accurate</font>"
   ]
  },
  {
   "cell_type": "code",
   "execution_count": 9,
   "metadata": {},
   "outputs": [
    {
     "data": {
      "text/plain": [
       "Diesel    4299\n",
       "Petrol    3520\n",
       "CNG         52\n",
       "LPG         35\n",
       "Name: fuel, dtype: int64"
      ]
     },
     "execution_count": 9,
     "metadata": {},
     "output_type": "execute_result"
    }
   ],
   "source": [
    "#look at the different fuel types\n",
    "data.fuel.value_counts()"
   ]
  },
  {
   "cell_type": "code",
   "execution_count": 10,
   "metadata": {},
   "outputs": [
    {
     "data": {
      "text/plain": [
       "Diesel    4299\n",
       "Petrol    3520\n",
       "Name: fuel, dtype: int64"
      ]
     },
     "execution_count": 10,
     "metadata": {},
     "output_type": "execute_result"
    }
   ],
   "source": [
    "#drop the LPG and CNG rows\n",
    "data = data[data.fuel != 'CNG']\n",
    "data = data[data.fuel != 'LPG']\n",
    "data.fuel.value_counts()"
   ]
  },
  {
   "cell_type": "markdown",
   "metadata": {},
   "source": [
    "<p style=\"margin: 10px 0;\"></p>"
   ]
  },
  {
   "cell_type": "markdown",
   "metadata": {},
   "source": [
    "<font size=\"3\">The selling price is in Rupees. I will convert it to USD for this example</font>"
   ]
  },
  {
   "cell_type": "code",
   "execution_count": 11,
   "metadata": {},
   "outputs": [],
   "source": [
    "#The selling price is in Rupees. Convert to USD for this example.\n",
    "data['selling_price'] = data['selling_price'] * 0.013"
   ]
  },
  {
   "cell_type": "code",
   "execution_count": 12,
   "metadata": {},
   "outputs": [],
   "source": [
    "#Make some of the names a bit more clear\n",
    "data = data.rename(columns={'engine': 'engine_power'})\n",
    "data = data.rename(columns={'mileage': 'fuel_efficiency'})"
   ]
  },
  {
   "cell_type": "markdown",
   "metadata": {},
   "source": [
    "<p style=\"margin: 10px 0;\"></p>"
   ]
  },
  {
   "cell_type": "markdown",
   "metadata": {},
   "source": [
    "<font size=\"3\">Examine the data for outliers that could have an impact on the accuracy and reliability of the model being developed. </font>"
   ]
  },
  {
   "cell_type": "code",
   "execution_count": 13,
   "metadata": {},
   "outputs": [
    {
     "data": {
      "text/html": [
       "<div>\n",
       "<style scoped>\n",
       "    .dataframe tbody tr th:only-of-type {\n",
       "        vertical-align: middle;\n",
       "    }\n",
       "\n",
       "    .dataframe tbody tr th {\n",
       "        vertical-align: top;\n",
       "    }\n",
       "\n",
       "    .dataframe thead th {\n",
       "        text-align: right;\n",
       "    }\n",
       "</style>\n",
       "<table border=\"1\" class=\"dataframe\">\n",
       "  <thead>\n",
       "    <tr style=\"text-align: right;\">\n",
       "      <th></th>\n",
       "      <th>year</th>\n",
       "      <th>selling_price</th>\n",
       "      <th>km_driven</th>\n",
       "      <th>fuel_efficiency</th>\n",
       "      <th>engine_power</th>\n",
       "      <th>max_power</th>\n",
       "      <th>low_budget_brand</th>\n",
       "      <th>mid_budget_brand</th>\n",
       "      <th>high_budget_brand</th>\n",
       "      <th>seats_0-4</th>\n",
       "      <th>seats_5+</th>\n",
       "    </tr>\n",
       "  </thead>\n",
       "  <tbody>\n",
       "    <tr>\n",
       "      <th>count</th>\n",
       "      <td>7819.000000</td>\n",
       "      <td>7819.000000</td>\n",
       "      <td>7.819000e+03</td>\n",
       "      <td>7819.000000</td>\n",
       "      <td>7819.000000</td>\n",
       "      <td>7819.000000</td>\n",
       "      <td>7819.000000</td>\n",
       "      <td>7819.000000</td>\n",
       "      <td>7819.000000</td>\n",
       "      <td>7819.000000</td>\n",
       "      <td>7819.000000</td>\n",
       "    </tr>\n",
       "    <tr>\n",
       "      <th>mean</th>\n",
       "      <td>2013.990280</td>\n",
       "      <td>8501.815915</td>\n",
       "      <td>6.912583e+04</td>\n",
       "      <td>19.390375</td>\n",
       "      <td>1463.090677</td>\n",
       "      <td>91.935226</td>\n",
       "      <td>0.469497</td>\n",
       "      <td>0.475636</td>\n",
       "      <td>0.054866</td>\n",
       "      <td>0.016754</td>\n",
       "      <td>0.983246</td>\n",
       "    </tr>\n",
       "    <tr>\n",
       "      <th>std</th>\n",
       "      <td>3.865268</td>\n",
       "      <td>10621.687473</td>\n",
       "      <td>5.687384e+04</td>\n",
       "      <td>4.001777</td>\n",
       "      <td>504.655439</td>\n",
       "      <td>35.770104</td>\n",
       "      <td>0.499101</td>\n",
       "      <td>0.499438</td>\n",
       "      <td>0.227734</td>\n",
       "      <td>0.128357</td>\n",
       "      <td>0.128357</td>\n",
       "    </tr>\n",
       "    <tr>\n",
       "      <th>min</th>\n",
       "      <td>1994.000000</td>\n",
       "      <td>389.987000</td>\n",
       "      <td>1.000000e+03</td>\n",
       "      <td>0.000000</td>\n",
       "      <td>624.000000</td>\n",
       "      <td>34.200000</td>\n",
       "      <td>0.000000</td>\n",
       "      <td>0.000000</td>\n",
       "      <td>0.000000</td>\n",
       "      <td>0.000000</td>\n",
       "      <td>0.000000</td>\n",
       "    </tr>\n",
       "    <tr>\n",
       "      <th>25%</th>\n",
       "      <td>2012.000000</td>\n",
       "      <td>3510.000000</td>\n",
       "      <td>3.400000e+04</td>\n",
       "      <td>16.780000</td>\n",
       "      <td>1197.000000</td>\n",
       "      <td>69.000000</td>\n",
       "      <td>0.000000</td>\n",
       "      <td>0.000000</td>\n",
       "      <td>0.000000</td>\n",
       "      <td>0.000000</td>\n",
       "      <td>1.000000</td>\n",
       "    </tr>\n",
       "    <tr>\n",
       "      <th>50%</th>\n",
       "      <td>2015.000000</td>\n",
       "      <td>5915.000000</td>\n",
       "      <td>6.000000e+04</td>\n",
       "      <td>19.300000</td>\n",
       "      <td>1248.000000</td>\n",
       "      <td>82.400000</td>\n",
       "      <td>0.000000</td>\n",
       "      <td>0.000000</td>\n",
       "      <td>0.000000</td>\n",
       "      <td>0.000000</td>\n",
       "      <td>1.000000</td>\n",
       "    </tr>\n",
       "    <tr>\n",
       "      <th>75%</th>\n",
       "      <td>2017.000000</td>\n",
       "      <td>9035.000000</td>\n",
       "      <td>9.600000e+04</td>\n",
       "      <td>22.320000</td>\n",
       "      <td>1582.000000</td>\n",
       "      <td>102.000000</td>\n",
       "      <td>1.000000</td>\n",
       "      <td>1.000000</td>\n",
       "      <td>0.000000</td>\n",
       "      <td>0.000000</td>\n",
       "      <td>1.000000</td>\n",
       "    </tr>\n",
       "    <tr>\n",
       "      <th>max</th>\n",
       "      <td>2020.000000</td>\n",
       "      <td>130000.000000</td>\n",
       "      <td>2.360457e+06</td>\n",
       "      <td>42.000000</td>\n",
       "      <td>3604.000000</td>\n",
       "      <td>400.000000</td>\n",
       "      <td>1.000000</td>\n",
       "      <td>1.000000</td>\n",
       "      <td>1.000000</td>\n",
       "      <td>1.000000</td>\n",
       "      <td>1.000000</td>\n",
       "    </tr>\n",
       "  </tbody>\n",
       "</table>\n",
       "</div>"
      ],
      "text/plain": [
       "              year  selling_price     km_driven  fuel_efficiency  \\\n",
       "count  7819.000000    7819.000000  7.819000e+03      7819.000000   \n",
       "mean   2013.990280    8501.815915  6.912583e+04        19.390375   \n",
       "std       3.865268   10621.687473  5.687384e+04         4.001777   \n",
       "min    1994.000000     389.987000  1.000000e+03         0.000000   \n",
       "25%    2012.000000    3510.000000  3.400000e+04        16.780000   \n",
       "50%    2015.000000    5915.000000  6.000000e+04        19.300000   \n",
       "75%    2017.000000    9035.000000  9.600000e+04        22.320000   \n",
       "max    2020.000000  130000.000000  2.360457e+06        42.000000   \n",
       "\n",
       "       engine_power    max_power  low_budget_brand  mid_budget_brand  \\\n",
       "count   7819.000000  7819.000000       7819.000000       7819.000000   \n",
       "mean    1463.090677    91.935226          0.469497          0.475636   \n",
       "std      504.655439    35.770104          0.499101          0.499438   \n",
       "min      624.000000    34.200000          0.000000          0.000000   \n",
       "25%     1197.000000    69.000000          0.000000          0.000000   \n",
       "50%     1248.000000    82.400000          0.000000          0.000000   \n",
       "75%     1582.000000   102.000000          1.000000          1.000000   \n",
       "max     3604.000000   400.000000          1.000000          1.000000   \n",
       "\n",
       "       high_budget_brand    seats_0-4     seats_5+  \n",
       "count        7819.000000  7819.000000  7819.000000  \n",
       "mean            0.054866     0.016754     0.983246  \n",
       "std             0.227734     0.128357     0.128357  \n",
       "min             0.000000     0.000000     0.000000  \n",
       "25%             0.000000     0.000000     1.000000  \n",
       "50%             0.000000     0.000000     1.000000  \n",
       "75%             0.000000     0.000000     1.000000  \n",
       "max             1.000000     1.000000     1.000000  "
      ]
     },
     "execution_count": 13,
     "metadata": {},
     "output_type": "execute_result"
    }
   ],
   "source": [
    "#Check for outliers\n",
    "data.describe()"
   ]
  },
  {
   "cell_type": "code",
   "execution_count": 14,
   "metadata": {},
   "outputs": [],
   "source": [
    "#locate selling_price outlier\n",
    "data.loc[data['selling_price'] > 75000]\n",
    "\n",
    "#Delete selling_price outlier\n",
    "data = data.drop([164])"
   ]
  },
  {
   "cell_type": "code",
   "execution_count": 15,
   "metadata": {},
   "outputs": [],
   "source": [
    "#locate km_driven outlier\n",
    "data.loc[data['km_driven'] > 400000]\n",
    "\n",
    "#Delete km_driven outlier\n",
    "data = data.drop([1757, 3377])"
   ]
  },
  {
   "cell_type": "code",
   "execution_count": 16,
   "metadata": {},
   "outputs": [],
   "source": [
    "#locate fuel_efficiency outlier\n",
    "data.loc[data['fuel_efficiency'] == 0]\n",
    "\n",
    "#Delete fuel_efficiency that = 0\n",
    "data = data.drop(index=data[data['fuel_efficiency'] == 0].index)"
   ]
  },
  {
   "cell_type": "markdown",
   "metadata": {},
   "source": [
    "<p style=\"margin: 10px 0;\"></p>"
   ]
  },
  {
   "cell_type": "markdown",
   "metadata": {},
   "source": [
    "<font size=\"3\">To enhance the readability of the variable I renamed 'year' to 'years_old' for clarity </font>"
   ]
  },
  {
   "cell_type": "code",
   "execution_count": 17,
   "metadata": {},
   "outputs": [
    {
     "data": {
      "text/html": [
       "<div>\n",
       "<style scoped>\n",
       "    .dataframe tbody tr th:only-of-type {\n",
       "        vertical-align: middle;\n",
       "    }\n",
       "\n",
       "    .dataframe tbody tr th {\n",
       "        vertical-align: top;\n",
       "    }\n",
       "\n",
       "    .dataframe thead th {\n",
       "        text-align: right;\n",
       "    }\n",
       "</style>\n",
       "<table border=\"1\" class=\"dataframe\">\n",
       "  <thead>\n",
       "    <tr style=\"text-align: right;\">\n",
       "      <th></th>\n",
       "      <th>selling_price</th>\n",
       "      <th>km_driven</th>\n",
       "      <th>fuel</th>\n",
       "      <th>transmission</th>\n",
       "      <th>fuel_efficiency</th>\n",
       "      <th>engine_power</th>\n",
       "      <th>max_power</th>\n",
       "      <th>low_budget_brand</th>\n",
       "      <th>mid_budget_brand</th>\n",
       "      <th>high_budget_brand</th>\n",
       "      <th>seats_0-4</th>\n",
       "      <th>seats_5+</th>\n",
       "      <th>years_old</th>\n",
       "    </tr>\n",
       "  </thead>\n",
       "  <tbody>\n",
       "    <tr>\n",
       "      <th>0</th>\n",
       "      <td>5850.0</td>\n",
       "      <td>145500</td>\n",
       "      <td>Diesel</td>\n",
       "      <td>Manual</td>\n",
       "      <td>23.40</td>\n",
       "      <td>1248</td>\n",
       "      <td>74.00</td>\n",
       "      <td>1</td>\n",
       "      <td>0</td>\n",
       "      <td>0</td>\n",
       "      <td>0</td>\n",
       "      <td>1</td>\n",
       "      <td>8</td>\n",
       "    </tr>\n",
       "    <tr>\n",
       "      <th>1</th>\n",
       "      <td>4810.0</td>\n",
       "      <td>120000</td>\n",
       "      <td>Diesel</td>\n",
       "      <td>Manual</td>\n",
       "      <td>21.14</td>\n",
       "      <td>1498</td>\n",
       "      <td>103.52</td>\n",
       "      <td>0</td>\n",
       "      <td>1</td>\n",
       "      <td>0</td>\n",
       "      <td>0</td>\n",
       "      <td>1</td>\n",
       "      <td>8</td>\n",
       "    </tr>\n",
       "    <tr>\n",
       "      <th>2</th>\n",
       "      <td>2054.0</td>\n",
       "      <td>140000</td>\n",
       "      <td>Petrol</td>\n",
       "      <td>Manual</td>\n",
       "      <td>17.70</td>\n",
       "      <td>1497</td>\n",
       "      <td>78.00</td>\n",
       "      <td>0</td>\n",
       "      <td>1</td>\n",
       "      <td>0</td>\n",
       "      <td>0</td>\n",
       "      <td>1</td>\n",
       "      <td>16</td>\n",
       "    </tr>\n",
       "    <tr>\n",
       "      <th>3</th>\n",
       "      <td>2925.0</td>\n",
       "      <td>127000</td>\n",
       "      <td>Diesel</td>\n",
       "      <td>Manual</td>\n",
       "      <td>23.00</td>\n",
       "      <td>1396</td>\n",
       "      <td>90.00</td>\n",
       "      <td>0</td>\n",
       "      <td>1</td>\n",
       "      <td>0</td>\n",
       "      <td>0</td>\n",
       "      <td>1</td>\n",
       "      <td>12</td>\n",
       "    </tr>\n",
       "    <tr>\n",
       "      <th>4</th>\n",
       "      <td>1690.0</td>\n",
       "      <td>120000</td>\n",
       "      <td>Petrol</td>\n",
       "      <td>Manual</td>\n",
       "      <td>16.10</td>\n",
       "      <td>1298</td>\n",
       "      <td>88.20</td>\n",
       "      <td>1</td>\n",
       "      <td>0</td>\n",
       "      <td>0</td>\n",
       "      <td>0</td>\n",
       "      <td>1</td>\n",
       "      <td>15</td>\n",
       "    </tr>\n",
       "  </tbody>\n",
       "</table>\n",
       "</div>"
      ],
      "text/plain": [
       "   selling_price  km_driven    fuel transmission  fuel_efficiency  \\\n",
       "0         5850.0     145500  Diesel       Manual            23.40   \n",
       "1         4810.0     120000  Diesel       Manual            21.14   \n",
       "2         2054.0     140000  Petrol       Manual            17.70   \n",
       "3         2925.0     127000  Diesel       Manual            23.00   \n",
       "4         1690.0     120000  Petrol       Manual            16.10   \n",
       "\n",
       "   engine_power  max_power  low_budget_brand  mid_budget_brand  \\\n",
       "0          1248      74.00                 1                 0   \n",
       "1          1498     103.52                 0                 1   \n",
       "2          1497      78.00                 0                 1   \n",
       "3          1396      90.00                 0                 1   \n",
       "4          1298      88.20                 1                 0   \n",
       "\n",
       "   high_budget_brand  seats_0-4  seats_5+  years_old  \n",
       "0                  0          0         1          8  \n",
       "1                  0          0         1          8  \n",
       "2                  0          0         1         16  \n",
       "3                  0          0         1         12  \n",
       "4                  0          0         1         15  "
      ]
     },
     "execution_count": 17,
     "metadata": {},
     "output_type": "execute_result"
    }
   ],
   "source": [
    "#change Year to years_old\n",
    "data['years_old'] = data['year'].apply(lambda x: 2022 - x)\n",
    "data.drop('year', inplace=True, axis=1)\n",
    "data.head()"
   ]
  },
  {
   "cell_type": "markdown",
   "metadata": {},
   "source": [
    "<p style=\"margin: 10px 0;\"></p>"
   ]
  },
  {
   "cell_type": "markdown",
   "metadata": {},
   "source": [
    "<font msize=\"3\"><b>Create Dummy Variables</b></font>"
   ]
  },
  {
   "cell_type": "markdown",
   "metadata": {},
   "source": [
    "<font size=\"3\">I utilized One-Hot Encoding (OHE) to generate dummy variables from the remaining categorical predictors.</font>"
   ]
  },
  {
   "cell_type": "code",
   "execution_count": 18,
   "metadata": {},
   "outputs": [
    {
     "data": {
      "text/html": [
       "<div>\n",
       "<style scoped>\n",
       "    .dataframe tbody tr th:only-of-type {\n",
       "        vertical-align: middle;\n",
       "    }\n",
       "\n",
       "    .dataframe tbody tr th {\n",
       "        vertical-align: top;\n",
       "    }\n",
       "\n",
       "    .dataframe thead th {\n",
       "        text-align: right;\n",
       "    }\n",
       "</style>\n",
       "<table border=\"1\" class=\"dataframe\">\n",
       "  <thead>\n",
       "    <tr style=\"text-align: right;\">\n",
       "      <th></th>\n",
       "      <th>fuel_Diesel</th>\n",
       "      <th>fuel_Petrol</th>\n",
       "      <th>transmission_Automatic</th>\n",
       "      <th>transmission_Manual</th>\n",
       "    </tr>\n",
       "  </thead>\n",
       "  <tbody>\n",
       "    <tr>\n",
       "      <th>0</th>\n",
       "      <td>1</td>\n",
       "      <td>0</td>\n",
       "      <td>0</td>\n",
       "      <td>1</td>\n",
       "    </tr>\n",
       "    <tr>\n",
       "      <th>1</th>\n",
       "      <td>1</td>\n",
       "      <td>0</td>\n",
       "      <td>0</td>\n",
       "      <td>1</td>\n",
       "    </tr>\n",
       "    <tr>\n",
       "      <th>2</th>\n",
       "      <td>0</td>\n",
       "      <td>1</td>\n",
       "      <td>0</td>\n",
       "      <td>1</td>\n",
       "    </tr>\n",
       "    <tr>\n",
       "      <th>3</th>\n",
       "      <td>1</td>\n",
       "      <td>0</td>\n",
       "      <td>0</td>\n",
       "      <td>1</td>\n",
       "    </tr>\n",
       "    <tr>\n",
       "      <th>4</th>\n",
       "      <td>0</td>\n",
       "      <td>1</td>\n",
       "      <td>0</td>\n",
       "      <td>1</td>\n",
       "    </tr>\n",
       "    <tr>\n",
       "      <th>...</th>\n",
       "      <td>...</td>\n",
       "      <td>...</td>\n",
       "      <td>...</td>\n",
       "      <td>...</td>\n",
       "    </tr>\n",
       "    <tr>\n",
       "      <th>7901</th>\n",
       "      <td>0</td>\n",
       "      <td>1</td>\n",
       "      <td>0</td>\n",
       "      <td>1</td>\n",
       "    </tr>\n",
       "    <tr>\n",
       "      <th>7902</th>\n",
       "      <td>1</td>\n",
       "      <td>0</td>\n",
       "      <td>0</td>\n",
       "      <td>1</td>\n",
       "    </tr>\n",
       "    <tr>\n",
       "      <th>7903</th>\n",
       "      <td>1</td>\n",
       "      <td>0</td>\n",
       "      <td>0</td>\n",
       "      <td>1</td>\n",
       "    </tr>\n",
       "    <tr>\n",
       "      <th>7904</th>\n",
       "      <td>1</td>\n",
       "      <td>0</td>\n",
       "      <td>0</td>\n",
       "      <td>1</td>\n",
       "    </tr>\n",
       "    <tr>\n",
       "      <th>7905</th>\n",
       "      <td>1</td>\n",
       "      <td>0</td>\n",
       "      <td>0</td>\n",
       "      <td>1</td>\n",
       "    </tr>\n",
       "  </tbody>\n",
       "</table>\n",
       "<p>7799 rows × 4 columns</p>\n",
       "</div>"
      ],
      "text/plain": [
       "      fuel_Diesel  fuel_Petrol  transmission_Automatic  transmission_Manual\n",
       "0               1            0                       0                    1\n",
       "1               1            0                       0                    1\n",
       "2               0            1                       0                    1\n",
       "3               1            0                       0                    1\n",
       "4               0            1                       0                    1\n",
       "...           ...          ...                     ...                  ...\n",
       "7901            0            1                       0                    1\n",
       "7902            1            0                       0                    1\n",
       "7903            1            0                       0                    1\n",
       "7904            1            0                       0                    1\n",
       "7905            1            0                       0                    1\n",
       "\n",
       "[7799 rows x 4 columns]"
      ]
     },
     "execution_count": 18,
     "metadata": {},
     "output_type": "execute_result"
    }
   ],
   "source": [
    "#Create dummies for fuel and transmission\n",
    "import matplotlib.pyplot as plt\n",
    "%matplotlib inline\n",
    "\n",
    "categoricals_to_OHE = ['fuel', 'transmission'] \n",
    "remainders = ['years_old', 'selling_price', 'km_driven',  'fuel_efficiency', 'engine_power', 'max_power', 'low_budget_brand', 'mid_budget_brand', 'high_budget_brand', 'seats_0-4', 'seats_5+']\n",
    "\n",
    "data_ohe = pd.get_dummies(data[categoricals_to_OHE], columns=['fuel', 'transmission'])\n",
    "data_ohe = data_ohe.astype(int)\n",
    "data_ohe"
   ]
  },
  {
   "cell_type": "markdown",
   "metadata": {},
   "source": [
    "<p style=\"margin: 10px 0;\"></p>"
   ]
  },
  {
   "cell_type": "markdown",
   "metadata": {},
   "source": [
    "<font size=\"3\">Join dummies and continuous data</font>"
   ]
  },
  {
   "cell_type": "code",
   "execution_count": 19,
   "metadata": {},
   "outputs": [
    {
     "data": {
      "text/html": [
       "<div>\n",
       "<style scoped>\n",
       "    .dataframe tbody tr th:only-of-type {\n",
       "        vertical-align: middle;\n",
       "    }\n",
       "\n",
       "    .dataframe tbody tr th {\n",
       "        vertical-align: top;\n",
       "    }\n",
       "\n",
       "    .dataframe thead th {\n",
       "        text-align: right;\n",
       "    }\n",
       "</style>\n",
       "<table border=\"1\" class=\"dataframe\">\n",
       "  <thead>\n",
       "    <tr style=\"text-align: right;\">\n",
       "      <th></th>\n",
       "      <th>years_old</th>\n",
       "      <th>selling_price</th>\n",
       "      <th>km_driven</th>\n",
       "      <th>fuel_efficiency</th>\n",
       "      <th>engine_power</th>\n",
       "      <th>max_power</th>\n",
       "      <th>low_budget_brand</th>\n",
       "      <th>mid_budget_brand</th>\n",
       "      <th>high_budget_brand</th>\n",
       "      <th>seats_0-4</th>\n",
       "      <th>seats_5+</th>\n",
       "      <th>fuel_Diesel</th>\n",
       "      <th>fuel_Petrol</th>\n",
       "      <th>transmission_Automatic</th>\n",
       "      <th>transmission_Manual</th>\n",
       "    </tr>\n",
       "  </thead>\n",
       "  <tbody>\n",
       "    <tr>\n",
       "      <th>0</th>\n",
       "      <td>8</td>\n",
       "      <td>5850.0</td>\n",
       "      <td>145500</td>\n",
       "      <td>23.40</td>\n",
       "      <td>1248</td>\n",
       "      <td>74.00</td>\n",
       "      <td>1</td>\n",
       "      <td>0</td>\n",
       "      <td>0</td>\n",
       "      <td>0</td>\n",
       "      <td>1</td>\n",
       "      <td>1</td>\n",
       "      <td>0</td>\n",
       "      <td>0</td>\n",
       "      <td>1</td>\n",
       "    </tr>\n",
       "    <tr>\n",
       "      <th>1</th>\n",
       "      <td>8</td>\n",
       "      <td>4810.0</td>\n",
       "      <td>120000</td>\n",
       "      <td>21.14</td>\n",
       "      <td>1498</td>\n",
       "      <td>103.52</td>\n",
       "      <td>0</td>\n",
       "      <td>1</td>\n",
       "      <td>0</td>\n",
       "      <td>0</td>\n",
       "      <td>1</td>\n",
       "      <td>1</td>\n",
       "      <td>0</td>\n",
       "      <td>0</td>\n",
       "      <td>1</td>\n",
       "    </tr>\n",
       "    <tr>\n",
       "      <th>2</th>\n",
       "      <td>16</td>\n",
       "      <td>2054.0</td>\n",
       "      <td>140000</td>\n",
       "      <td>17.70</td>\n",
       "      <td>1497</td>\n",
       "      <td>78.00</td>\n",
       "      <td>0</td>\n",
       "      <td>1</td>\n",
       "      <td>0</td>\n",
       "      <td>0</td>\n",
       "      <td>1</td>\n",
       "      <td>0</td>\n",
       "      <td>1</td>\n",
       "      <td>0</td>\n",
       "      <td>1</td>\n",
       "    </tr>\n",
       "    <tr>\n",
       "      <th>3</th>\n",
       "      <td>12</td>\n",
       "      <td>2925.0</td>\n",
       "      <td>127000</td>\n",
       "      <td>23.00</td>\n",
       "      <td>1396</td>\n",
       "      <td>90.00</td>\n",
       "      <td>0</td>\n",
       "      <td>1</td>\n",
       "      <td>0</td>\n",
       "      <td>0</td>\n",
       "      <td>1</td>\n",
       "      <td>1</td>\n",
       "      <td>0</td>\n",
       "      <td>0</td>\n",
       "      <td>1</td>\n",
       "    </tr>\n",
       "    <tr>\n",
       "      <th>4</th>\n",
       "      <td>15</td>\n",
       "      <td>1690.0</td>\n",
       "      <td>120000</td>\n",
       "      <td>16.10</td>\n",
       "      <td>1298</td>\n",
       "      <td>88.20</td>\n",
       "      <td>1</td>\n",
       "      <td>0</td>\n",
       "      <td>0</td>\n",
       "      <td>0</td>\n",
       "      <td>1</td>\n",
       "      <td>0</td>\n",
       "      <td>1</td>\n",
       "      <td>0</td>\n",
       "      <td>1</td>\n",
       "    </tr>\n",
       "  </tbody>\n",
       "</table>\n",
       "</div>"
      ],
      "text/plain": [
       "   years_old  selling_price  km_driven  fuel_efficiency  engine_power  \\\n",
       "0          8         5850.0     145500            23.40          1248   \n",
       "1          8         4810.0     120000            21.14          1498   \n",
       "2         16         2054.0     140000            17.70          1497   \n",
       "3         12         2925.0     127000            23.00          1396   \n",
       "4         15         1690.0     120000            16.10          1298   \n",
       "\n",
       "   max_power  low_budget_brand  mid_budget_brand  high_budget_brand  \\\n",
       "0      74.00                 1                 0                  0   \n",
       "1     103.52                 0                 1                  0   \n",
       "2      78.00                 0                 1                  0   \n",
       "3      90.00                 0                 1                  0   \n",
       "4      88.20                 1                 0                  0   \n",
       "\n",
       "   seats_0-4  seats_5+  fuel_Diesel  fuel_Petrol  transmission_Automatic  \\\n",
       "0          0         1            1            0                       0   \n",
       "1          0         1            1            0                       0   \n",
       "2          0         1            0            1                       0   \n",
       "3          0         1            1            0                       0   \n",
       "4          0         1            0            1                       0   \n",
       "\n",
       "   transmission_Manual  \n",
       "0                    1  \n",
       "1                    1  \n",
       "2                    1  \n",
       "3                    1  \n",
       "4                    1  "
      ]
     },
     "execution_count": 19,
     "metadata": {},
     "output_type": "execute_result"
    }
   ],
   "source": [
    "#Join dummies and continuous data\n",
    "remainders = data[remainders]\n",
    "preprocessed = pd.concat([remainders, data_ohe], axis=1)\n",
    "\n",
    "preprocessed.head()"
   ]
  },
  {
   "cell_type": "markdown",
   "metadata": {},
   "source": [
    "<p style=\"margin: 10px 0;\"></p>"
   ]
  },
  {
   "cell_type": "markdown",
   "metadata": {},
   "source": [
    "<font msize=\"3\"><b>Multicollinearity</b></font>"
   ]
  },
  {
   "cell_type": "markdown",
   "metadata": {},
   "source": [
    "<font size=\"3\">I searched for multicollinearity that may impact the accuracy of the model. The findings revealed that the variables 'max_power' and 'engine_power' have a significant level of multicollinearity, which is expected due to their similarity in measurement. I will keep note of this and deal with it later in the model process.</font>"
   ]
  },
  {
   "cell_type": "code",
   "execution_count": 20,
   "metadata": {},
   "outputs": [],
   "source": [
    "Continuous = ['years_old', 'km_driven',  'fuel_efficiency', 'engine_power', 'max_power']\n",
    "data_mc = preprocessed[Continuous]"
   ]
  },
  {
   "cell_type": "code",
   "execution_count": 21,
   "metadata": {},
   "outputs": [
    {
     "data": {
      "text/html": [
       "<div>\n",
       "<style scoped>\n",
       "    .dataframe tbody tr th:only-of-type {\n",
       "        vertical-align: middle;\n",
       "    }\n",
       "\n",
       "    .dataframe tbody tr th {\n",
       "        vertical-align: top;\n",
       "    }\n",
       "\n",
       "    .dataframe thead th {\n",
       "        text-align: right;\n",
       "    }\n",
       "</style>\n",
       "<table border=\"1\" class=\"dataframe\">\n",
       "  <thead>\n",
       "    <tr style=\"text-align: right;\">\n",
       "      <th></th>\n",
       "      <th>feature</th>\n",
       "      <th>VIF</th>\n",
       "    </tr>\n",
       "  </thead>\n",
       "  <tbody>\n",
       "    <tr>\n",
       "      <th>0</th>\n",
       "      <td>years_old</td>\n",
       "      <td>5.973242</td>\n",
       "    </tr>\n",
       "    <tr>\n",
       "      <th>1</th>\n",
       "      <td>km_driven</td>\n",
       "      <td>4.596360</td>\n",
       "    </tr>\n",
       "    <tr>\n",
       "      <th>2</th>\n",
       "      <td>fuel_efficiency</td>\n",
       "      <td>6.380725</td>\n",
       "    </tr>\n",
       "    <tr>\n",
       "      <th>3</th>\n",
       "      <td>engine_power</td>\n",
       "      <td>20.873152</td>\n",
       "    </tr>\n",
       "    <tr>\n",
       "      <th>4</th>\n",
       "      <td>max_power</td>\n",
       "      <td>16.930519</td>\n",
       "    </tr>\n",
       "  </tbody>\n",
       "</table>\n",
       "</div>"
      ],
      "text/plain": [
       "           feature        VIF\n",
       "0        years_old   5.973242\n",
       "1        km_driven   4.596360\n",
       "2  fuel_efficiency   6.380725\n",
       "3     engine_power  20.873152\n",
       "4        max_power  16.930519"
      ]
     },
     "execution_count": 21,
     "metadata": {},
     "output_type": "execute_result"
    }
   ],
   "source": [
    "import pandas as pd\n",
    "from statsmodels.stats.outliers_influence import variance_inflation_factor\n",
    "\n",
    "# assuming data_mc is a pandas DataFrame object with columns\n",
    "VIF = pd.DataFrame()\n",
    "VIF['feature'] = data_mc.columns\n",
    "VIF['VIF'] = [variance_inflation_factor(data_mc.values, i) for i in range(data_mc.shape[1])]\n",
    "VIF"
   ]
  },
  {
   "cell_type": "markdown",
   "metadata": {},
   "source": [
    "<p style=\"margin: 10px 0;\"></p>"
   ]
  },
  {
   "cell_type": "markdown",
   "metadata": {},
   "source": [
    "<font msize=\"3\"><b>Split data into Traning & Testing perform Cross-Validation\n",
    "\n",
    "</b></font>"
   ]
  },
  {
   "cell_type": "markdown",
   "metadata": {},
   "source": [
    "<font size=\"3\">I split the data 70/30 into training and testing which allowed me to test the model to ensure it has the potential to make accurate predictions</font>"
   ]
  },
  {
   "cell_type": "code",
   "execution_count": 22,
   "metadata": {
    "scrolled": true
   },
   "outputs": [
    {
     "name": "stdout",
     "output_type": "stream",
     "text": [
      "5459 2340 5459 2340\n"
     ]
    }
   ],
   "source": [
    "from sklearn.model_selection import train_test_split\n",
    "\n",
    "X = preprocessed.drop('selling_price', axis=1)\n",
    "y = preprocessed['selling_price']\n",
    "\n",
    "#split the data 70/30\n",
    "X_train, X_test, y_train, y_test = train_test_split(X, y, random_state=59, test_size=0.30)\n",
    "\n",
    "#check lengths\n",
    "print(len(X_train), len(X_test), len(y_train), len(y_test))"
   ]
  },
  {
   "cell_type": "markdown",
   "metadata": {},
   "source": [
    "<p style=\"margin: 10px 0;\"></p>"
   ]
  },
  {
   "cell_type": "markdown",
   "metadata": {},
   "source": [
    "<font msize=\"3\"><b>Check Mean Square Errors</b></font>"
   ]
  },
  {
   "cell_type": "markdown",
   "metadata": {},
   "source": [
    "<font size=\"3\">To ensure the precision and reliability of the model, I evaluated its Mean Square Error (MSE) and conducted a cross-validation test. The results of these analyses appear to be quite encouraging and suggest that the model would be accurate in making predictions.</font>"
   ]
  },
  {
   "cell_type": "code",
   "execution_count": 23,
   "metadata": {},
   "outputs": [],
   "source": [
    "from sklearn.model_selection import cross_val_score\n",
    "from sklearn.model_selection import cross_validate\n",
    "from sklearn.linear_model import LinearRegression\n",
    "linreg = LinearRegression()"
   ]
  },
  {
   "cell_type": "code",
   "execution_count": 24,
   "metadata": {},
   "outputs": [
    {
     "data": {
      "image/png": "[encoded data removed]",
      "text/plain": [
       "<Figure size 640x480 with 1 Axes>"
      ]
     },
     "metadata": {},
     "output_type": "display_data"
    }
   ],
   "source": [
    "#perform Cross Validation for better accuracy\n",
    "cross_val_results = cross_validate(linreg, X_train, y_train, scoring=\"neg_mean_squared_error\", return_train_score=True)\n",
    "# Negative signs in front to convert back to MSE from -MSE\n",
    "train_avg = -cross_val_results[\"train_score\"].mean()\n",
    "test_avg = -cross_val_results[\"test_score\"].mean()\n",
    "\n",
    "#Create bar graph to compare the MSE with a visual\n",
    "colors = [\"#00B3E6\", \"#FFC51B\"]\n",
    "labels = [\"Train\", \"Test\"]\n",
    "fig, ax = plt.subplots()\n",
    "ax.bar(labels, [train_avg, test_avg], color=colors)\n",
    "ax.set_ylabel(\"MSE\")\n",
    "fig.suptitle(\"Average Cross-Validation Scores\");"
   ]
  },
  {
   "cell_type": "code",
   "execution_count": 25,
   "metadata": {},
   "outputs": [
    {
     "name": "stdout",
     "output_type": "stream",
     "text": [
      "Cross Validation Test Mean Squared Error: 23215120.779188894\n",
      "Cross Validation Train Mean Squared Error: 23036614.88218996\n"
     ]
    }
   ],
   "source": [
    "#Cross Validation MSE\n",
    "print('Cross Validation Test Mean Squared Error:', test_avg)\n",
    "print('Cross Validation Train Mean Squared Error:', train_avg)"
   ]
  },
  {
   "cell_type": "code",
   "execution_count": 26,
   "metadata": {},
   "outputs": [],
   "source": [
    "#Fit a linear regression model and calculate MSE for test and train\n",
    "from sklearn.linear_model import LinearRegression\n",
    "linreg = LinearRegression()\n",
    "linreg.fit(X_train, y_train)\n",
    "\n",
    "y_hat_train = linreg.predict(X_train)\n",
    "y_hat_test = linreg.predict(X_test)"
   ]
  },
  {
   "cell_type": "code",
   "execution_count": 27,
   "metadata": {},
   "outputs": [
    {
     "name": "stdout",
     "output_type": "stream",
     "text": [
      "Train Mean Squared Error: 23054376.040334556\n",
      "Test Mean Squared Error: 22635530.734878473\n"
     ]
    }
   ],
   "source": [
    "#calculate the MSE\n",
    "from sklearn.metrics import mean_squared_error\n",
    "\n",
    "train_mse = mean_squared_error(y_train, y_hat_train)\n",
    "test_mse = mean_squared_error(y_test, y_hat_test)\n",
    "print('Train Mean Squared Error:', train_mse)\n",
    "print('Test Mean Squared Error:', test_mse)"
   ]
  },
  {
   "cell_type": "markdown",
   "metadata": {},
   "source": [
    "<p style=\"margin: 10px 0;\"></p>"
   ]
  },
  {
   "cell_type": "markdown",
   "metadata": {},
   "source": [
    "<font msize=\"3\"><b>Check OLS Regression Results</b></font>"
   ]
  },
  {
   "cell_type": "markdown",
   "metadata": {},
   "source": [
    "<font size=\"3\">I checked the Ordinary Least Squares (OLS) Regression Results, I aimed to assess the performance of my model and determine if any further iterations were necessary for optimal results.font>"
   ]
  },
  {
   "cell_type": "code",
   "execution_count": 28,
   "metadata": {},
   "outputs": [
    {
     "data": {
      "text/html": [
       "<table class=\"simpletable\">\n",
       "<caption>OLS Regression Results</caption>\n",
       "<tr>\n",
       "  <th>Dep. Variable:</th>      <td>selling_price</td>  <th>  R-squared:         </th> <td>   0.794</td> \n",
       "</tr>\n",
       "<tr>\n",
       "  <th>Model:</th>                   <td>OLS</td>       <th>  Adj. R-squared:    </th> <td>   0.794</td> \n",
       "</tr>\n",
       "<tr>\n",
       "  <th>Method:</th>             <td>Least Squares</td>  <th>  F-statistic:       </th> <td>   2104.</td> \n",
       "</tr>\n",
       "<tr>\n",
       "  <th>Date:</th>             <td>Wed, 22 Feb 2023</td> <th>  Prob (F-statistic):</th>  <td>  0.00</td>  \n",
       "</tr>\n",
       "<tr>\n",
       "  <th>Time:</th>                 <td>13:11:29</td>     <th>  Log-Likelihood:    </th> <td> -54020.</td> \n",
       "</tr>\n",
       "<tr>\n",
       "  <th>No. Observations:</th>      <td>  5459</td>      <th>  AIC:               </th> <td>1.081e+05</td>\n",
       "</tr>\n",
       "<tr>\n",
       "  <th>Df Residuals:</th>          <td>  5448</td>      <th>  BIC:               </th> <td>1.081e+05</td>\n",
       "</tr>\n",
       "<tr>\n",
       "  <th>Df Model:</th>              <td>    10</td>      <th>                     </th>     <td> </td>    \n",
       "</tr>\n",
       "<tr>\n",
       "  <th>Covariance Type:</th>      <td>nonrobust</td>    <th>                     </th>     <td> </td>    \n",
       "</tr>\n",
       "</table>\n",
       "<table class=\"simpletable\">\n",
       "<tr>\n",
       "             <td></td>               <th>coef</th>     <th>std err</th>      <th>t</th>      <th>P>|t|</th>  <th>[0.025</th>    <th>0.975]</th>  \n",
       "</tr>\n",
       "<tr>\n",
       "  <th>const</th>                  <td> 2818.9502</td> <td>  349.510</td> <td>    8.065</td> <td> 0.000</td> <td> 2133.771</td> <td> 3504.129</td>\n",
       "</tr>\n",
       "<tr>\n",
       "  <th>years_old</th>              <td> -590.8050</td> <td>   23.206</td> <td>  -25.459</td> <td> 0.000</td> <td> -636.298</td> <td> -545.312</td>\n",
       "</tr>\n",
       "<tr>\n",
       "  <th>km_driven</th>              <td>   -0.0127</td> <td>    0.002</td> <td>   -7.313</td> <td> 0.000</td> <td>   -0.016</td> <td>   -0.009</td>\n",
       "</tr>\n",
       "<tr>\n",
       "  <th>fuel_efficiency</th>        <td>  197.2425</td> <td>   28.194</td> <td>    6.996</td> <td> 0.000</td> <td>  141.970</td> <td>  252.515</td>\n",
       "</tr>\n",
       "<tr>\n",
       "  <th>engine_power</th>           <td>    3.2202</td> <td>    0.284</td> <td>   11.350</td> <td> 0.000</td> <td>    2.664</td> <td>    3.776</td>\n",
       "</tr>\n",
       "<tr>\n",
       "  <th>max_power</th>              <td>   83.0151</td> <td>    3.566</td> <td>   23.282</td> <td> 0.000</td> <td>   76.025</td> <td>   90.005</td>\n",
       "</tr>\n",
       "<tr>\n",
       "  <th>low_budget_brand</th>       <td>-6834.2666</td> <td>  187.990</td> <td>  -36.354</td> <td> 0.000</td> <td>-7202.802</td> <td>-6465.731</td>\n",
       "</tr>\n",
       "<tr>\n",
       "  <th>mid_budget_brand</th>       <td>-6807.0160</td> <td>  174.521</td> <td>  -39.004</td> <td> 0.000</td> <td>-7149.146</td> <td>-6464.886</td>\n",
       "</tr>\n",
       "<tr>\n",
       "  <th>high_budget_brand</th>      <td> 1.646e+04</td> <td>  324.999</td> <td>   50.647</td> <td> 0.000</td> <td> 1.58e+04</td> <td> 1.71e+04</td>\n",
       "</tr>\n",
       "<tr>\n",
       "  <th>seats_0-4</th>              <td> 4443.7109</td> <td>  347.703</td> <td>   12.780</td> <td> 0.000</td> <td> 3762.074</td> <td> 5125.348</td>\n",
       "</tr>\n",
       "<tr>\n",
       "  <th>seats_5+</th>               <td>-1624.7608</td> <td>  285.548</td> <td>   -5.690</td> <td> 0.000</td> <td>-2184.548</td> <td>-1064.973</td>\n",
       "</tr>\n",
       "<tr>\n",
       "  <th>fuel_Diesel</th>            <td> 1302.1860</td> <td>  243.463</td> <td>    5.349</td> <td> 0.000</td> <td>  824.902</td> <td> 1779.470</td>\n",
       "</tr>\n",
       "<tr>\n",
       "  <th>fuel_Petrol</th>            <td> 1516.7641</td> <td>  144.065</td> <td>   10.528</td> <td> 0.000</td> <td> 1234.338</td> <td> 1799.190</td>\n",
       "</tr>\n",
       "<tr>\n",
       "  <th>transmission_Automatic</th> <td> 2251.3131</td> <td>  224.730</td> <td>   10.018</td> <td> 0.000</td> <td> 1810.753</td> <td> 2691.873</td>\n",
       "</tr>\n",
       "<tr>\n",
       "  <th>transmission_Manual</th>    <td>  567.6371</td> <td>  205.832</td> <td>    2.758</td> <td> 0.006</td> <td>  164.125</td> <td>  971.150</td>\n",
       "</tr>\n",
       "</table>\n",
       "<table class=\"simpletable\">\n",
       "<tr>\n",
       "  <th>Omnibus:</th>       <td>1820.033</td> <th>  Durbin-Watson:     </th> <td>   2.021</td> \n",
       "</tr>\n",
       "<tr>\n",
       "  <th>Prob(Omnibus):</th>  <td> 0.000</td>  <th>  Jarque-Bera (JB):  </th> <td>65474.556</td>\n",
       "</tr>\n",
       "<tr>\n",
       "  <th>Skew:</th>           <td> 0.922</td>  <th>  Prob(JB):          </th> <td>    0.00</td> \n",
       "</tr>\n",
       "<tr>\n",
       "  <th>Kurtosis:</th>       <td>19.866</td>  <th>  Cond. No.          </th> <td>1.40e+21</td> \n",
       "</tr>\n",
       "</table><br/><br/>Notes:<br/>[1] Standard Errors assume that the covariance matrix of the errors is correctly specified.<br/>[2] The smallest eigenvalue is 1.98e-29. This might indicate that there are<br/>strong multicollinearity problems or that the design matrix is singular."
      ],
      "text/plain": [
       "<class 'statsmodels.iolib.summary.Summary'>\n",
       "\"\"\"\n",
       "                            OLS Regression Results                            \n",
       "==============================================================================\n",
       "Dep. Variable:          selling_price   R-squared:                       0.794\n",
       "Model:                            OLS   Adj. R-squared:                  0.794\n",
       "Method:                 Least Squares   F-statistic:                     2104.\n",
       "Date:                Wed, 22 Feb 2023   Prob (F-statistic):               0.00\n",
       "Time:                        13:11:29   Log-Likelihood:                -54020.\n",
       "No. Observations:                5459   AIC:                         1.081e+05\n",
       "Df Residuals:                    5448   BIC:                         1.081e+05\n",
       "Df Model:                          10                                         \n",
       "Covariance Type:            nonrobust                                         \n",
       "==========================================================================================\n",
       "                             coef    std err          t      P>|t|      [0.025      0.975]\n",
       "------------------------------------------------------------------------------------------\n",
       "const                   2818.9502    349.510      8.065      0.000    2133.771    3504.129\n",
       "years_old               -590.8050     23.206    -25.459      0.000    -636.298    -545.312\n",
       "km_driven                 -0.0127      0.002     -7.313      0.000      -0.016      -0.009\n",
       "fuel_efficiency          197.2425     28.194      6.996      0.000     141.970     252.515\n",
       "engine_power               3.2202      0.284     11.350      0.000       2.664       3.776\n",
       "max_power                 83.0151      3.566     23.282      0.000      76.025      90.005\n",
       "low_budget_brand       -6834.2666    187.990    -36.354      0.000   -7202.802   -6465.731\n",
       "mid_budget_brand       -6807.0160    174.521    -39.004      0.000   -7149.146   -6464.886\n",
       "high_budget_brand       1.646e+04    324.999     50.647      0.000    1.58e+04    1.71e+04\n",
       "seats_0-4               4443.7109    347.703     12.780      0.000    3762.074    5125.348\n",
       "seats_5+               -1624.7608    285.548     -5.690      0.000   -2184.548   -1064.973\n",
       "fuel_Diesel             1302.1860    243.463      5.349      0.000     824.902    1779.470\n",
       "fuel_Petrol             1516.7641    144.065     10.528      0.000    1234.338    1799.190\n",
       "transmission_Automatic  2251.3131    224.730     10.018      0.000    1810.753    2691.873\n",
       "transmission_Manual      567.6371    205.832      2.758      0.006     164.125     971.150\n",
       "==============================================================================\n",
       "Omnibus:                     1820.033   Durbin-Watson:                   2.021\n",
       "Prob(Omnibus):                  0.000   Jarque-Bera (JB):            65474.556\n",
       "Skew:                           0.922   Prob(JB):                         0.00\n",
       "Kurtosis:                      19.866   Cond. No.                     1.40e+21\n",
       "==============================================================================\n",
       "\n",
       "Notes:\n",
       "[1] Standard Errors assume that the covariance matrix of the errors is correctly specified.\n",
       "[2] The smallest eigenvalue is 1.98e-29. This might indicate that there are\n",
       "strong multicollinearity problems or that the design matrix is singular.\n",
       "\"\"\""
      ]
     },
     "execution_count": 28,
     "metadata": {},
     "output_type": "execute_result"
    }
   ],
   "source": [
    "import statsmodels.api as sm\n",
    "# View OLS Model\n",
    "X_train_with_intercept = sm.add_constant(X_train)\n",
    "model = sm.OLS(y_train,X_train_with_intercept).fit()\n",
    "model.summary()"
   ]
  },
  {
   "cell_type": "markdown",
   "metadata": {},
   "source": [
    "<p style=\"margin: 10px 0;\"></p>"
   ]
  },
  {
   "cell_type": "markdown",
   "metadata": {},
   "source": [
    "<font msize=\"3\"><b>The conclusion on iteration 1 is:</b></font>  \n",
    "<font msize=\"3\">1) The mean square error looks accurate meaning the model would be accurate in making predictions.</font>  \n",
    "<font msize=\"3\">2) The OLS suggests the P-values of all variables look good.</font>  \n",
    "<font msize=\"3\">3) The Adj. R-squared suggest there is an acceptable goodness of fit.</font>  \n",
    "<font msize=\"3\">4) There might be some skewness that could affect my model.</font>  "
   ]
  },
  {
   "cell_type": "markdown",
   "metadata": {},
   "source": [
    "<p style=\"margin: 10px 0;\"></p>"
   ]
  },
  {
   "cell_type": "markdown",
   "metadata": {},
   "source": [
    ".\n",
    "\n",
    "\n",
    "\n",
    "<font size=\"7\">ITERATION 2</font>"
   ]
  },
  {
   "cell_type": "markdown",
   "metadata": {},
   "source": [
    "<font msize=\"3\"><b>Check for skewness</b></font>"
   ]
  },
  {
   "cell_type": "markdown",
   "metadata": {},
   "source": [
    "<font size=\"3\">To improve the skewness in my variables, I utilized a histogram and Q-Q plot as visual aids. Upon careful inspection, I observed considerable skewness and, as a result, opted to conduct a log transformation.</font>"
   ]
  },
  {
   "cell_type": "code",
   "execution_count": 29,
   "metadata": {},
   "outputs": [
    {
     "data": {
      "image/png": "[encoded data removed]",
      "text/plain": [
       "<Figure size 3000x500 with 5 Axes>"
      ]
     },
     "metadata": {},
     "output_type": "display_data"
    }
   ],
   "source": [
    "import matplotlib.pyplot as plt\n",
    "\n",
    "# check for skewness with Hist\n",
    "Continuous = ['years_old', 'km_driven',  'fuel_efficiency', 'engine_power', 'max_power']\n",
    "\n",
    "fig, axes = plt.subplots(1, len(Continuous), figsize=(30, 5))\n",
    "\n",
    "# iterate through each continuous variable and plot a histogram on a separate subplot\n",
    "for i, col in enumerate(Continuous):\n",
    "    X_train[col].hist(ax=axes[i], alpha=0.5)\n",
    "    axes[i].set_title(col)\n",
    "\n",
    "plt.show()"
   ]
  },
  {
   "cell_type": "code",
   "execution_count": 30,
   "metadata": {},
   "outputs": [
    {
     "data": {
      "image/png": "[encoded data removed]",
      "text/plain": [
       "<Figure size 2500x500 with 5 Axes>"
      ]
     },
     "metadata": {},
     "output_type": "display_data"
    }
   ],
   "source": [
    "from statsmodels.graphics.gofplots import qqplot\n",
    "\n",
    "#check for skewness with Q-Q PLot\n",
    "x_cont = X_train[Continuous]\n",
    "ncols = len(x_cont.columns)\n",
    "\n",
    "fig, ax = plt.subplots(nrows=1, ncols=ncols, figsize=(5*ncols, 5))\n",
    "\n",
    "for i, col in enumerate(x_cont.columns):\n",
    "    qqplot(x_cont[col], line='s', ax=ax[i])\n",
    "    ax[i].set_title(col)\n",
    "\n",
    "plt.tight_layout()\n",
    "plt.show()"
   ]
  },
  {
   "cell_type": "markdown",
   "metadata": {},
   "source": [
    "<p style=\"margin: 10px 0;\"></p>"
   ]
  },
  {
   "cell_type": "markdown",
   "metadata": {},
   "source": [
    "<font msize=\"3\"><b>Log Transformation</b></font>"
   ]
  },
  {
   "cell_type": "markdown",
   "metadata": {},
   "source": [
    "<font size=\"3\">The visualizations indicated a significant degree of skewness in the data. As a solution, I opted to apply a log transformation in order to alleviate this skewness and improve the data distribution.</font>"
   ]
  },
  {
   "cell_type": "code",
   "execution_count": 31,
   "metadata": {},
   "outputs": [],
   "source": [
    "from sklearn.preprocessing import FunctionTransformer\n",
    "import numpy as np\n",
    "\n",
    "log_columns = ['years_old', 'km_driven',  'fuel_efficiency', 'engine_power', 'max_power']\n",
    "\n",
    "# Log transform the X_train column\n",
    "X_train[log_columns] = np.log(X_train[log_columns] + 1)\n",
    "\n",
    "# Log transform the X_test column\n",
    "X_test[log_columns] = np.log(X_test[log_columns] + 1)\n",
    "\n",
    "# Log transform the y_train column\n",
    "y_train = np.log(y_train + 1)\n",
    "\n",
    "# Log transform the y_test  column\n",
    "y_test = np.log(y_test + 1)"
   ]
  },
  {
   "cell_type": "markdown",
   "metadata": {},
   "source": [
    "<p style=\"margin: 10px 0;\"></p>"
   ]
  },
  {
   "cell_type": "markdown",
   "metadata": {},
   "source": [
    "<font msize=\"3\"><b>Re-check for skewness</b></font>"
   ]
  },
  {
   "cell_type": "markdown",
   "metadata": {},
   "source": [
    "<font size=\"3\">After performing Log transformaion, it looks like the skewness has improved to an acceptable level. </font>"
   ]
  },
  {
   "cell_type": "code",
   "execution_count": 32,
   "metadata": {},
   "outputs": [
    {
     "data": {
      "image/png": "[encoded data removed]",
      "text/plain": [
       "<Figure size 3000x500 with 5 Axes>"
      ]
     },
     "metadata": {},
     "output_type": "display_data"
    }
   ],
   "source": [
    "fig, axes = plt.subplots(1, len(Continuous), figsize=(30, 5))\n",
    "\n",
    "# iterate through each continuous variable and plot a histogram on a separate subplot\n",
    "for i, col in enumerate(Continuous):\n",
    "    X_train[col].hist(ax=axes[i], alpha=0.5)\n",
    "    axes[i].set_title(col)\n",
    "\n",
    "plt.show()"
   ]
  },
  {
   "cell_type": "code",
   "execution_count": 33,
   "metadata": {},
   "outputs": [
    {
     "data": {
      "image/png": "[encoded data removed]",
      "text/plain": [
       "<Figure size 2500x500 with 5 Axes>"
      ]
     },
     "metadata": {},
     "output_type": "display_data"
    }
   ],
   "source": [
    "#check for skewness with Q-Q PLot\n",
    "x_cont = X_train[Continuous]\n",
    "ncols = len(x_cont.columns)\n",
    "\n",
    "fig, ax = plt.subplots(nrows=1, ncols=ncols, figsize=(5*ncols, 5))\n",
    "\n",
    "for i, col in enumerate(x_cont.columns):\n",
    "    qqplot(x_cont[col], line='s', ax=ax[i])\n",
    "    ax[i].set_title(col)\n",
    "\n",
    "plt.tight_layout()\n",
    "plt.show()"
   ]
  },
  {
   "cell_type": "markdown",
   "metadata": {},
   "source": [
    "<p style=\"margin: 10px 0;\"></p>"
   ]
  },
  {
   "cell_type": "markdown",
   "metadata": {},
   "source": [
    "<font msize=\"3\"><b>Re-check the MSE</b></font>"
   ]
  },
  {
   "cell_type": "markdown",
   "metadata": {},
   "source": [
    "<font size=\"3\">With the observed improvement in skewness, I conducted a re-evaluation of the mean squared error to determine if there were any significant changes that could potentially affect the model's ability to make accurate predictions.</font>"
   ]
  },
  {
   "cell_type": "code",
   "execution_count": 34,
   "metadata": {},
   "outputs": [],
   "source": [
    "linreg = LinearRegression()\n",
    "linreg.fit(X_train, y_train)\n",
    "\n",
    "y_hat_train = linreg.predict(X_train)\n",
    "y_hat_test = linreg.predict(X_test)"
   ]
  },
  {
   "cell_type": "code",
   "execution_count": 35,
   "metadata": {},
   "outputs": [
    {
     "name": "stdout",
     "output_type": "stream",
     "text": [
      "Train Mean Squared Error: 0.09082106398128514\n",
      "Test Mean Squared Error: 0.09298228017400306\n"
     ]
    }
   ],
   "source": [
    "#calculate the MSE\n",
    "train_mse = mean_squared_error(y_train, y_hat_train)\n",
    "test_mse = mean_squared_error(y_test, y_hat_test)\n",
    "print('Train Mean Squared Error:', train_mse)\n",
    "print('Test Mean Squared Error:', test_mse)"
   ]
  },
  {
   "cell_type": "code",
   "execution_count": 36,
   "metadata": {},
   "outputs": [
    {
     "data": {
      "image/png": "[encoded data removed]",
      "text/plain": [
       "<Figure size 640x480 with 1 Axes>"
      ]
     },
     "metadata": {},
     "output_type": "display_data"
    }
   ],
   "source": [
    "cross_val_results = cross_validate(linreg, X_train, y_train, scoring=\"neg_mean_squared_error\", return_train_score=True)\n",
    "# Negative signs in front to convert back to MSE from -MSE\n",
    "train_avg = -cross_val_results[\"train_score\"].mean()\n",
    "test_avg = -cross_val_results[\"test_score\"].mean()\n",
    "\n",
    "colors = [\"#00B3E6\", \"#FFC51B\"]\n",
    "labels = [\"Train\", \"Test\"]\n",
    "fig, ax = plt.subplots()\n",
    "ax.bar(labels, [train_avg, test_avg], color=colors)\n",
    "ax.set_ylabel(\"MSE\")\n",
    "fig.suptitle(\"Average Cross-Validation Scores\");"
   ]
  },
  {
   "cell_type": "code",
   "execution_count": 37,
   "metadata": {},
   "outputs": [
    {
     "name": "stdout",
     "output_type": "stream",
     "text": [
      "Cross Validation Test Mean Squared Error: 0.09122688863000265\n",
      "Cross Validation Train Mean Squared Error: 0.09079798224166677\n"
     ]
    }
   ],
   "source": [
    "#Cross Validation MSE\n",
    "print('Cross Validation Test Mean Squared Error:', test_avg)\n",
    "print('Cross Validation Train Mean Squared Error:', train_avg)"
   ]
  },
  {
   "cell_type": "markdown",
   "metadata": {},
   "source": [
    "<p style=\"margin: 10px 0;\"></p>"
   ]
  },
  {
   "cell_type": "markdown",
   "metadata": {},
   "source": [
    "<font msize=\"3\"><b>Re-check the OLS Regression Results</b></font>"
   ]
  },
  {
   "cell_type": "markdown",
   "metadata": {},
   "source": [
    "<font size=\"3\">With the observed improvement in skewness, I conducted a re-evaluation of the OLS Regression Results to determine if there were any significant changes.</font>"
   ]
  },
  {
   "cell_type": "code",
   "execution_count": 38,
   "metadata": {},
   "outputs": [
    {
     "data": {
      "text/html": [
       "<table class=\"simpletable\">\n",
       "<caption>OLS Regression Results</caption>\n",
       "<tr>\n",
       "  <th>Dep. Variable:</th>      <td>selling_price</td>  <th>  R-squared:         </th> <td>   0.868</td>\n",
       "</tr>\n",
       "<tr>\n",
       "  <th>Model:</th>                   <td>OLS</td>       <th>  Adj. R-squared:    </th> <td>   0.868</td>\n",
       "</tr>\n",
       "<tr>\n",
       "  <th>Method:</th>             <td>Least Squares</td>  <th>  F-statistic:       </th> <td>   3584.</td>\n",
       "</tr>\n",
       "<tr>\n",
       "  <th>Date:</th>             <td>Wed, 22 Feb 2023</td> <th>  Prob (F-statistic):</th>  <td>  0.00</td> \n",
       "</tr>\n",
       "<tr>\n",
       "  <th>Time:</th>                 <td>13:11:33</td>     <th>  Log-Likelihood:    </th> <td> -1198.3</td>\n",
       "</tr>\n",
       "<tr>\n",
       "  <th>No. Observations:</th>      <td>  5459</td>      <th>  AIC:               </th> <td>   2419.</td>\n",
       "</tr>\n",
       "<tr>\n",
       "  <th>Df Residuals:</th>          <td>  5448</td>      <th>  BIC:               </th> <td>   2491.</td>\n",
       "</tr>\n",
       "<tr>\n",
       "  <th>Df Model:</th>              <td>    10</td>      <th>                     </th>     <td> </td>   \n",
       "</tr>\n",
       "<tr>\n",
       "  <th>Covariance Type:</th>      <td>nonrobust</td>    <th>                     </th>     <td> </td>   \n",
       "</tr>\n",
       "</table>\n",
       "<table class=\"simpletable\">\n",
       "<tr>\n",
       "             <td></td>               <th>coef</th>     <th>std err</th>      <th>t</th>      <th>P>|t|</th>  <th>[0.025</th>    <th>0.975]</th>  \n",
       "</tr>\n",
       "<tr>\n",
       "  <th>const</th>                  <td>    1.0477</td> <td>    0.102</td> <td>   10.231</td> <td> 0.000</td> <td>    0.847</td> <td>    1.249</td>\n",
       "</tr>\n",
       "<tr>\n",
       "  <th>years_old</th>              <td>   -1.0296</td> <td>    0.015</td> <td>  -70.075</td> <td> 0.000</td> <td>   -1.058</td> <td>   -1.001</td>\n",
       "</tr>\n",
       "<tr>\n",
       "  <th>km_driven</th>              <td>   -0.0065</td> <td>    0.007</td> <td>   -0.950</td> <td> 0.342</td> <td>   -0.020</td> <td>    0.007</td>\n",
       "</tr>\n",
       "<tr>\n",
       "  <th>fuel_efficiency</th>        <td>    0.3072</td> <td>    0.035</td> <td>    8.658</td> <td> 0.000</td> <td>    0.238</td> <td>    0.377</td>\n",
       "</tr>\n",
       "<tr>\n",
       "  <th>engine_power</th>           <td>    0.5185</td> <td>    0.032</td> <td>   16.024</td> <td> 0.000</td> <td>    0.455</td> <td>    0.582</td>\n",
       "</tr>\n",
       "<tr>\n",
       "  <th>max_power</th>              <td>    0.7699</td> <td>    0.023</td> <td>   33.746</td> <td> 0.000</td> <td>    0.725</td> <td>    0.815</td>\n",
       "</tr>\n",
       "<tr>\n",
       "  <th>low_budget_brand</th>       <td>    0.0857</td> <td>    0.035</td> <td>    2.480</td> <td> 0.013</td> <td>    0.018</td> <td>    0.153</td>\n",
       "</tr>\n",
       "<tr>\n",
       "  <th>mid_budget_brand</th>       <td>    0.1766</td> <td>    0.036</td> <td>    4.935</td> <td> 0.000</td> <td>    0.106</td> <td>    0.247</td>\n",
       "</tr>\n",
       "<tr>\n",
       "  <th>high_budget_brand</th>      <td>    0.7854</td> <td>    0.038</td> <td>   20.448</td> <td> 0.000</td> <td>    0.710</td> <td>    0.861</td>\n",
       "</tr>\n",
       "<tr>\n",
       "  <th>seats_0-4</th>              <td>    0.4834</td> <td>    0.052</td> <td>    9.358</td> <td> 0.000</td> <td>    0.382</td> <td>    0.585</td>\n",
       "</tr>\n",
       "<tr>\n",
       "  <th>seats_5+</th>               <td>    0.5643</td> <td>    0.056</td> <td>   10.052</td> <td> 0.000</td> <td>    0.454</td> <td>    0.674</td>\n",
       "</tr>\n",
       "<tr>\n",
       "  <th>fuel_Diesel</th>            <td>    0.5840</td> <td>    0.056</td> <td>   10.422</td> <td> 0.000</td> <td>    0.474</td> <td>    0.694</td>\n",
       "</tr>\n",
       "<tr>\n",
       "  <th>fuel_Petrol</th>            <td>    0.4637</td> <td>    0.047</td> <td>    9.915</td> <td> 0.000</td> <td>    0.372</td> <td>    0.555</td>\n",
       "</tr>\n",
       "<tr>\n",
       "  <th>transmission_Automatic</th> <td>    0.5806</td> <td>    0.052</td> <td>   11.103</td> <td> 0.000</td> <td>    0.478</td> <td>    0.683</td>\n",
       "</tr>\n",
       "<tr>\n",
       "  <th>transmission_Manual</th>    <td>    0.4672</td> <td>    0.051</td> <td>    9.100</td> <td> 0.000</td> <td>    0.367</td> <td>    0.568</td>\n",
       "</tr>\n",
       "</table>\n",
       "<table class=\"simpletable\">\n",
       "<tr>\n",
       "  <th>Omnibus:</th>       <td>345.167</td> <th>  Durbin-Watson:     </th> <td>   2.047</td> \n",
       "</tr>\n",
       "<tr>\n",
       "  <th>Prob(Omnibus):</th> <td> 0.000</td>  <th>  Jarque-Bera (JB):  </th> <td> 496.045</td> \n",
       "</tr>\n",
       "<tr>\n",
       "  <th>Skew:</th>          <td>-0.546</td>  <th>  Prob(JB):          </th> <td>1.93e-108</td>\n",
       "</tr>\n",
       "<tr>\n",
       "  <th>Kurtosis:</th>      <td> 3.995</td>  <th>  Cond. No.          </th> <td>1.99e+17</td> \n",
       "</tr>\n",
       "</table><br/><br/>Notes:<br/>[1] Standard Errors assume that the covariance matrix of the errors is correctly specified.<br/>[2] The smallest eigenvalue is 2.86e-29. This might indicate that there are<br/>strong multicollinearity problems or that the design matrix is singular."
      ],
      "text/plain": [
       "<class 'statsmodels.iolib.summary.Summary'>\n",
       "\"\"\"\n",
       "                            OLS Regression Results                            \n",
       "==============================================================================\n",
       "Dep. Variable:          selling_price   R-squared:                       0.868\n",
       "Model:                            OLS   Adj. R-squared:                  0.868\n",
       "Method:                 Least Squares   F-statistic:                     3584.\n",
       "Date:                Wed, 22 Feb 2023   Prob (F-statistic):               0.00\n",
       "Time:                        13:11:33   Log-Likelihood:                -1198.3\n",
       "No. Observations:                5459   AIC:                             2419.\n",
       "Df Residuals:                    5448   BIC:                             2491.\n",
       "Df Model:                          10                                         \n",
       "Covariance Type:            nonrobust                                         \n",
       "==========================================================================================\n",
       "                             coef    std err          t      P>|t|      [0.025      0.975]\n",
       "------------------------------------------------------------------------------------------\n",
       "const                      1.0477      0.102     10.231      0.000       0.847       1.249\n",
       "years_old                 -1.0296      0.015    -70.075      0.000      -1.058      -1.001\n",
       "km_driven                 -0.0065      0.007     -0.950      0.342      -0.020       0.007\n",
       "fuel_efficiency            0.3072      0.035      8.658      0.000       0.238       0.377\n",
       "engine_power               0.5185      0.032     16.024      0.000       0.455       0.582\n",
       "max_power                  0.7699      0.023     33.746      0.000       0.725       0.815\n",
       "low_budget_brand           0.0857      0.035      2.480      0.013       0.018       0.153\n",
       "mid_budget_brand           0.1766      0.036      4.935      0.000       0.106       0.247\n",
       "high_budget_brand          0.7854      0.038     20.448      0.000       0.710       0.861\n",
       "seats_0-4                  0.4834      0.052      9.358      0.000       0.382       0.585\n",
       "seats_5+                   0.5643      0.056     10.052      0.000       0.454       0.674\n",
       "fuel_Diesel                0.5840      0.056     10.422      0.000       0.474       0.694\n",
       "fuel_Petrol                0.4637      0.047      9.915      0.000       0.372       0.555\n",
       "transmission_Automatic     0.5806      0.052     11.103      0.000       0.478       0.683\n",
       "transmission_Manual        0.4672      0.051      9.100      0.000       0.367       0.568\n",
       "==============================================================================\n",
       "Omnibus:                      345.167   Durbin-Watson:                   2.047\n",
       "Prob(Omnibus):                  0.000   Jarque-Bera (JB):              496.045\n",
       "Skew:                          -0.546   Prob(JB):                    1.93e-108\n",
       "Kurtosis:                       3.995   Cond. No.                     1.99e+17\n",
       "==============================================================================\n",
       "\n",
       "Notes:\n",
       "[1] Standard Errors assume that the covariance matrix of the errors is correctly specified.\n",
       "[2] The smallest eigenvalue is 2.86e-29. This might indicate that there are\n",
       "strong multicollinearity problems or that the design matrix is singular.\n",
       "\"\"\""
      ]
     },
     "execution_count": 38,
     "metadata": {},
     "output_type": "execute_result"
    }
   ],
   "source": [
    "X_train_with_intercept = sm.add_constant(X_train)\n",
    "model = sm.OLS(y_train,X_train_with_intercept).fit()\n",
    "model.summary()"
   ]
  },
  {
   "cell_type": "markdown",
   "metadata": {},
   "source": [
    "<p style=\"margin: 10px 0;\"></p>"
   ]
  },
  {
   "cell_type": "markdown",
   "metadata": {},
   "source": [
    "<font msize=\"3\"><b>The conclusion on iteration 2 is:</b></font>  \n",
    "<font msize=\"3\">1) The mean square error is still accurate meaning the model will be accurate in making predictions.</font>  \n",
    "<font msize=\"3\">2) The OLS suggests the p-values of all variables are acceptable except for 'km_driven'.</font>  \n",
    "<font msize=\"3\">3) The Adj. R-squared suggest there is an improvment making it and even better goodness of fit.</font>  \n",
    "<font msize=\"3\">4) Skewness has improved.</font>  "
   ]
  },
  {
   "cell_type": "markdown",
   "metadata": {},
   "source": [
    "<p style=\"margin: 10px 0;\"></p>"
   ]
  },
  {
   "cell_type": "markdown",
   "metadata": {},
   "source": [
    ".\n",
    "\n",
    "\n",
    "\n",
    "<font size=\"7\">ITERATION 3</font>\n"
   ]
  },
  {
   "cell_type": "markdown",
   "metadata": {},
   "source": [
    "<font msize=\"3\"><b>Recheck Multicollinearity</b></font>"
   ]
  },
  {
   "cell_type": "markdown",
   "metadata": {},
   "source": [
    "<font size=\"3\">Before I drop the 'km_driven' variable, I want to Recheck Multicollinearity to see what else could be dont to improve my model.\n",
    "</font>"
   ]
  },
  {
   "cell_type": "code",
   "execution_count": 39,
   "metadata": {},
   "outputs": [],
   "source": [
    "Continuous = ['years_old', 'km_driven',  'fuel_efficiency', 'engine_power', 'max_power']\n",
    "data_mc = X_train[Continuous]"
   ]
  },
  {
   "cell_type": "code",
   "execution_count": 40,
   "metadata": {},
   "outputs": [
    {
     "data": {
      "text/html": [
       "<div>\n",
       "<style scoped>\n",
       "    .dataframe tbody tr th:only-of-type {\n",
       "        vertical-align: middle;\n",
       "    }\n",
       "\n",
       "    .dataframe tbody tr th {\n",
       "        vertical-align: top;\n",
       "    }\n",
       "\n",
       "    .dataframe thead th {\n",
       "        text-align: right;\n",
       "    }\n",
       "</style>\n",
       "<table border=\"1\" class=\"dataframe\">\n",
       "  <thead>\n",
       "    <tr style=\"text-align: right;\">\n",
       "      <th></th>\n",
       "      <th>feature</th>\n",
       "      <th>VIF</th>\n",
       "    </tr>\n",
       "  </thead>\n",
       "  <tbody>\n",
       "    <tr>\n",
       "      <th>0</th>\n",
       "      <td>years_old</td>\n",
       "      <td>49.716459</td>\n",
       "    </tr>\n",
       "    <tr>\n",
       "      <th>1</th>\n",
       "      <td>km_driven</td>\n",
       "      <td>291.186638</td>\n",
       "    </tr>\n",
       "    <tr>\n",
       "      <th>2</th>\n",
       "      <td>fuel_efficiency</td>\n",
       "      <td>123.393495</td>\n",
       "    </tr>\n",
       "    <tr>\n",
       "      <th>3</th>\n",
       "      <td>engine_power</td>\n",
       "      <td>927.051929</td>\n",
       "    </tr>\n",
       "    <tr>\n",
       "      <th>4</th>\n",
       "      <td>max_power</td>\n",
       "      <td>476.540898</td>\n",
       "    </tr>\n",
       "  </tbody>\n",
       "</table>\n",
       "</div>"
      ],
      "text/plain": [
       "           feature         VIF\n",
       "0        years_old   49.716459\n",
       "1        km_driven  291.186638\n",
       "2  fuel_efficiency  123.393495\n",
       "3     engine_power  927.051929\n",
       "4        max_power  476.540898"
      ]
     },
     "execution_count": 40,
     "metadata": {},
     "output_type": "execute_result"
    }
   ],
   "source": [
    "import pandas as pd\n",
    "from statsmodels.stats.outliers_influence import variance_inflation_factor\n",
    "\n",
    "# assuming data_mc is a pandas DataFrame object with columns\n",
    "VIF = pd.DataFrame()\n",
    "VIF['feature'] = data_mc.columns\n",
    "VIF['VIF'] = [variance_inflation_factor(data_mc.values, i) for i in range(data_mc.shape[1])]\n",
    "VIF"
   ]
  },
  {
   "cell_type": "markdown",
   "metadata": {},
   "source": [
    "<p style=\"margin: 10px 0;\"></p>"
   ]
  },
  {
   "cell_type": "markdown",
   "metadata": {},
   "source": [
    "<font size=\"3\">As suggested previously, it is evident that 'engine_power' and 'max_power' exhibit the highest level of multicollinearity, which is expected as they are quite similar measures. I will remove 'max_power' from the variables considered in the model.</font>"
   ]
  },
  {
   "cell_type": "code",
   "execution_count": 41,
   "metadata": {},
   "outputs": [],
   "source": [
    "X_train.drop('max_power', inplace=True, axis=1)\n",
    "X_test.drop('max_power', inplace=True, axis=1)"
   ]
  },
  {
   "cell_type": "markdown",
   "metadata": {},
   "source": [
    "<p style=\"margin: 10px 0;\"></p>"
   ]
  },
  {
   "cell_type": "markdown",
   "metadata": {},
   "source": [
    "<font msize=\"3\"><b>Re-check the OLS Regression Results</b></font>"
   ]
  },
  {
   "cell_type": "markdown",
   "metadata": {},
   "source": [
    "<font size=\"3\">After deleting 'max_power', I want to re-check the OLS before dropping 'km_driven' to see if anything has changed. </font>"
   ]
  },
  {
   "cell_type": "code",
   "execution_count": 42,
   "metadata": {},
   "outputs": [
    {
     "data": {
      "text/html": [
       "<table class=\"simpletable\">\n",
       "<caption>OLS Regression Results</caption>\n",
       "<tr>\n",
       "  <th>Dep. Variable:</th>      <td>selling_price</td>  <th>  R-squared:         </th> <td>   0.840</td>\n",
       "</tr>\n",
       "<tr>\n",
       "  <th>Model:</th>                   <td>OLS</td>       <th>  Adj. R-squared:    </th> <td>   0.840</td>\n",
       "</tr>\n",
       "<tr>\n",
       "  <th>Method:</th>             <td>Least Squares</td>  <th>  F-statistic:       </th> <td>   3189.</td>\n",
       "</tr>\n",
       "<tr>\n",
       "  <th>Date:</th>             <td>Wed, 22 Feb 2023</td> <th>  Prob (F-statistic):</th>  <td>  0.00</td> \n",
       "</tr>\n",
       "<tr>\n",
       "  <th>Time:</th>                 <td>13:11:33</td>     <th>  Log-Likelihood:    </th> <td> -1716.4</td>\n",
       "</tr>\n",
       "<tr>\n",
       "  <th>No. Observations:</th>      <td>  5459</td>      <th>  AIC:               </th> <td>   3453.</td>\n",
       "</tr>\n",
       "<tr>\n",
       "  <th>Df Residuals:</th>          <td>  5449</td>      <th>  BIC:               </th> <td>   3519.</td>\n",
       "</tr>\n",
       "<tr>\n",
       "  <th>Df Model:</th>              <td>     9</td>      <th>                     </th>     <td> </td>   \n",
       "</tr>\n",
       "<tr>\n",
       "  <th>Covariance Type:</th>      <td>nonrobust</td>    <th>                     </th>     <td> </td>   \n",
       "</tr>\n",
       "</table>\n",
       "<table class=\"simpletable\">\n",
       "<tr>\n",
       "             <td></td>               <th>coef</th>     <th>std err</th>      <th>t</th>      <th>P>|t|</th>  <th>[0.025</th>    <th>0.975]</th>  \n",
       "</tr>\n",
       "<tr>\n",
       "  <th>const</th>                  <td>    0.7294</td> <td>    0.112</td> <td>    6.506</td> <td> 0.000</td> <td>    0.510</td> <td>    0.949</td>\n",
       "</tr>\n",
       "<tr>\n",
       "  <th>years_old</th>              <td>   -1.1076</td> <td>    0.016</td> <td>  -69.431</td> <td> 0.000</td> <td>   -1.139</td> <td>   -1.076</td>\n",
       "</tr>\n",
       "<tr>\n",
       "  <th>km_driven</th>              <td>   -0.0019</td> <td>    0.008</td> <td>   -0.248</td> <td> 0.804</td> <td>   -0.017</td> <td>    0.013</td>\n",
       "</tr>\n",
       "<tr>\n",
       "  <th>fuel_efficiency</th>        <td>    0.3922</td> <td>    0.039</td> <td>   10.079</td> <td> 0.000</td> <td>    0.316</td> <td>    0.468</td>\n",
       "</tr>\n",
       "<tr>\n",
       "  <th>engine_power</th>           <td>    1.1030</td> <td>    0.030</td> <td>   36.701</td> <td> 0.000</td> <td>    1.044</td> <td>    1.162</td>\n",
       "</tr>\n",
       "<tr>\n",
       "  <th>low_budget_brand</th>       <td>   -0.1300</td> <td>    0.037</td> <td>   -3.481</td> <td> 0.001</td> <td>   -0.203</td> <td>   -0.057</td>\n",
       "</tr>\n",
       "<tr>\n",
       "  <th>mid_budget_brand</th>       <td>   -0.0080</td> <td>    0.039</td> <td>   -0.205</td> <td> 0.837</td> <td>   -0.084</td> <td>    0.068</td>\n",
       "</tr>\n",
       "<tr>\n",
       "  <th>high_budget_brand</th>      <td>    0.8674</td> <td>    0.042</td> <td>   20.582</td> <td> 0.000</td> <td>    0.785</td> <td>    0.950</td>\n",
       "</tr>\n",
       "<tr>\n",
       "  <th>seats_0-4</th>              <td>    0.2338</td> <td>    0.056</td> <td>    4.160</td> <td> 0.000</td> <td>    0.124</td> <td>    0.344</td>\n",
       "</tr>\n",
       "<tr>\n",
       "  <th>seats_5+</th>               <td>    0.4956</td> <td>    0.062</td> <td>    8.035</td> <td> 0.000</td> <td>    0.375</td> <td>    0.617</td>\n",
       "</tr>\n",
       "<tr>\n",
       "  <th>fuel_Diesel</th>            <td>    0.3992</td> <td>    0.061</td> <td>    6.510</td> <td> 0.000</td> <td>    0.279</td> <td>    0.519</td>\n",
       "</tr>\n",
       "<tr>\n",
       "  <th>fuel_Petrol</th>            <td>    0.3302</td> <td>    0.051</td> <td>    6.446</td> <td> 0.000</td> <td>    0.230</td> <td>    0.431</td>\n",
       "</tr>\n",
       "<tr>\n",
       "  <th>transmission_Automatic</th> <td>    0.4657</td> <td>    0.057</td> <td>    8.118</td> <td> 0.000</td> <td>    0.353</td> <td>    0.578</td>\n",
       "</tr>\n",
       "<tr>\n",
       "  <th>transmission_Manual</th>    <td>    0.2637</td> <td>    0.056</td> <td>    4.704</td> <td> 0.000</td> <td>    0.154</td> <td>    0.374</td>\n",
       "</tr>\n",
       "</table>\n",
       "<table class=\"simpletable\">\n",
       "<tr>\n",
       "  <th>Omnibus:</th>       <td>275.051</td> <th>  Durbin-Watson:     </th> <td>   2.027</td>\n",
       "</tr>\n",
       "<tr>\n",
       "  <th>Prob(Omnibus):</th> <td> 0.000</td>  <th>  Jarque-Bera (JB):  </th> <td> 357.536</td>\n",
       "</tr>\n",
       "<tr>\n",
       "  <th>Skew:</th>          <td>-0.498</td>  <th>  Prob(JB):          </th> <td>2.30e-78</td>\n",
       "</tr>\n",
       "<tr>\n",
       "  <th>Kurtosis:</th>      <td> 3.763</td>  <th>  Cond. No.          </th> <td>2.47e+17</td>\n",
       "</tr>\n",
       "</table><br/><br/>Notes:<br/>[1] Standard Errors assume that the covariance matrix of the errors is correctly specified.<br/>[2] The smallest eigenvalue is 1.68e-29. This might indicate that there are<br/>strong multicollinearity problems or that the design matrix is singular."
      ],
      "text/plain": [
       "<class 'statsmodels.iolib.summary.Summary'>\n",
       "\"\"\"\n",
       "                            OLS Regression Results                            \n",
       "==============================================================================\n",
       "Dep. Variable:          selling_price   R-squared:                       0.840\n",
       "Model:                            OLS   Adj. R-squared:                  0.840\n",
       "Method:                 Least Squares   F-statistic:                     3189.\n",
       "Date:                Wed, 22 Feb 2023   Prob (F-statistic):               0.00\n",
       "Time:                        13:11:33   Log-Likelihood:                -1716.4\n",
       "No. Observations:                5459   AIC:                             3453.\n",
       "Df Residuals:                    5449   BIC:                             3519.\n",
       "Df Model:                           9                                         \n",
       "Covariance Type:            nonrobust                                         \n",
       "==========================================================================================\n",
       "                             coef    std err          t      P>|t|      [0.025      0.975]\n",
       "------------------------------------------------------------------------------------------\n",
       "const                      0.7294      0.112      6.506      0.000       0.510       0.949\n",
       "years_old                 -1.1076      0.016    -69.431      0.000      -1.139      -1.076\n",
       "km_driven                 -0.0019      0.008     -0.248      0.804      -0.017       0.013\n",
       "fuel_efficiency            0.3922      0.039     10.079      0.000       0.316       0.468\n",
       "engine_power               1.1030      0.030     36.701      0.000       1.044       1.162\n",
       "low_budget_brand          -0.1300      0.037     -3.481      0.001      -0.203      -0.057\n",
       "mid_budget_brand          -0.0080      0.039     -0.205      0.837      -0.084       0.068\n",
       "high_budget_brand          0.8674      0.042     20.582      0.000       0.785       0.950\n",
       "seats_0-4                  0.2338      0.056      4.160      0.000       0.124       0.344\n",
       "seats_5+                   0.4956      0.062      8.035      0.000       0.375       0.617\n",
       "fuel_Diesel                0.3992      0.061      6.510      0.000       0.279       0.519\n",
       "fuel_Petrol                0.3302      0.051      6.446      0.000       0.230       0.431\n",
       "transmission_Automatic     0.4657      0.057      8.118      0.000       0.353       0.578\n",
       "transmission_Manual        0.2637      0.056      4.704      0.000       0.154       0.374\n",
       "==============================================================================\n",
       "Omnibus:                      275.051   Durbin-Watson:                   2.027\n",
       "Prob(Omnibus):                  0.000   Jarque-Bera (JB):              357.536\n",
       "Skew:                          -0.498   Prob(JB):                     2.30e-78\n",
       "Kurtosis:                       3.763   Cond. No.                     2.47e+17\n",
       "==============================================================================\n",
       "\n",
       "Notes:\n",
       "[1] Standard Errors assume that the covariance matrix of the errors is correctly specified.\n",
       "[2] The smallest eigenvalue is 1.68e-29. This might indicate that there are\n",
       "strong multicollinearity problems or that the design matrix is singular.\n",
       "\"\"\""
      ]
     },
     "execution_count": 42,
     "metadata": {},
     "output_type": "execute_result"
    }
   ],
   "source": [
    "X_train_with_intercept = sm.add_constant(X_train)\n",
    "model = sm.OLS(y_train,X_train_with_intercept).fit()\n",
    "model.summary()"
   ]
  },
  {
   "cell_type": "markdown",
   "metadata": {},
   "source": [
    "<p style=\"margin: 10px 0;\"></p>"
   ]
  },
  {
   "cell_type": "markdown",
   "metadata": {},
   "source": [
    "<font msize=\"3\"><b>Drop 'km_driven' & 'mid_budget_brand'</b></font>"
   ]
  },
  {
   "cell_type": "markdown",
   "metadata": {},
   "source": [
    "<font size=\"3\">Despite my personal assumptions, the high p-value for 'km_driven' still persists. Therefore, I have decided to exclude it from the variables used in the model along with 'mid_budget_brand'.</font>"
   ]
  },
  {
   "cell_type": "code",
   "execution_count": 43,
   "metadata": {},
   "outputs": [],
   "source": [
    "X_train.drop('mid_budget_brand', inplace=True, axis=1)\n",
    "X_test.drop('mid_budget_brand', inplace=True, axis=1)\n",
    "X_train.drop('km_driven', inplace=True, axis=1)\n",
    "X_test.drop('km_driven', inplace=True, axis=1)"
   ]
  },
  {
   "cell_type": "markdown",
   "metadata": {},
   "source": [
    "<p style=\"margin: 10px 0;\"></p>"
   ]
  },
  {
   "cell_type": "markdown",
   "metadata": {},
   "source": [
    "<font msize=\"3\"><b>Re-check the OLS Regression Results</b></font>"
   ]
  },
  {
   "cell_type": "markdown",
   "metadata": {},
   "source": [
    "<font size=\"3\">After deleting 'km_driven' & 'mid_budget_brand', I want to do a final check the OLS to see if anything has changed. </font>"
   ]
  },
  {
   "cell_type": "code",
   "execution_count": 44,
   "metadata": {},
   "outputs": [
    {
     "data": {
      "text/html": [
       "<table class=\"simpletable\">\n",
       "<caption>OLS Regression Results</caption>\n",
       "<tr>\n",
       "  <th>Dep. Variable:</th>      <td>selling_price</td>  <th>  R-squared:         </th> <td>   0.840</td>\n",
       "</tr>\n",
       "<tr>\n",
       "  <th>Model:</th>                   <td>OLS</td>       <th>  Adj. R-squared:    </th> <td>   0.840</td>\n",
       "</tr>\n",
       "<tr>\n",
       "  <th>Method:</th>             <td>Least Squares</td>  <th>  F-statistic:       </th> <td>   3589.</td>\n",
       "</tr>\n",
       "<tr>\n",
       "  <th>Date:</th>             <td>Wed, 22 Feb 2023</td> <th>  Prob (F-statistic):</th>  <td>  0.00</td> \n",
       "</tr>\n",
       "<tr>\n",
       "  <th>Time:</th>                 <td>13:11:33</td>     <th>  Log-Likelihood:    </th> <td> -1716.4</td>\n",
       "</tr>\n",
       "<tr>\n",
       "  <th>No. Observations:</th>      <td>  5459</td>      <th>  AIC:               </th> <td>   3451.</td>\n",
       "</tr>\n",
       "<tr>\n",
       "  <th>Df Residuals:</th>          <td>  5450</td>      <th>  BIC:               </th> <td>   3510.</td>\n",
       "</tr>\n",
       "<tr>\n",
       "  <th>Df Model:</th>              <td>     8</td>      <th>                     </th>     <td> </td>   \n",
       "</tr>\n",
       "<tr>\n",
       "  <th>Covariance Type:</th>      <td>nonrobust</td>    <th>                     </th>     <td> </td>   \n",
       "</tr>\n",
       "</table>\n",
       "<table class=\"simpletable\">\n",
       "<tr>\n",
       "             <td></td>               <th>coef</th>     <th>std err</th>      <th>t</th>      <th>P>|t|</th>  <th>[0.025</th>    <th>0.975]</th>  \n",
       "</tr>\n",
       "<tr>\n",
       "  <th>const</th>                  <td>    0.7246</td> <td>    0.127</td> <td>    5.702</td> <td> 0.000</td> <td>    0.475</td> <td>    0.974</td>\n",
       "</tr>\n",
       "<tr>\n",
       "  <th>years_old</th>              <td>   -1.1100</td> <td>    0.013</td> <td>  -86.351</td> <td> 0.000</td> <td>   -1.135</td> <td>   -1.085</td>\n",
       "</tr>\n",
       "<tr>\n",
       "  <th>fuel_efficiency</th>        <td>    0.3912</td> <td>    0.039</td> <td>   10.111</td> <td> 0.000</td> <td>    0.315</td> <td>    0.467</td>\n",
       "</tr>\n",
       "<tr>\n",
       "  <th>engine_power</th>           <td>    1.1019</td> <td>    0.030</td> <td>   37.048</td> <td> 0.000</td> <td>    1.044</td> <td>    1.160</td>\n",
       "</tr>\n",
       "<tr>\n",
       "  <th>low_budget_brand</th>       <td>   -0.1221</td> <td>    0.010</td> <td>  -11.723</td> <td> 0.000</td> <td>   -0.143</td> <td>   -0.102</td>\n",
       "</tr>\n",
       "<tr>\n",
       "  <th>high_budget_brand</th>      <td>    0.8766</td> <td>    0.025</td> <td>   35.062</td> <td> 0.000</td> <td>    0.828</td> <td>    0.926</td>\n",
       "</tr>\n",
       "<tr>\n",
       "  <th>seats_0-4</th>              <td>    0.2316</td> <td>    0.063</td> <td>    3.652</td> <td> 0.000</td> <td>    0.107</td> <td>    0.356</td>\n",
       "</tr>\n",
       "<tr>\n",
       "  <th>seats_5+</th>               <td>    0.4930</td> <td>    0.069</td> <td>    7.167</td> <td> 0.000</td> <td>    0.358</td> <td>    0.628</td>\n",
       "</tr>\n",
       "<tr>\n",
       "  <th>fuel_Diesel</th>            <td>    0.3964</td> <td>    0.069</td> <td>    5.768</td> <td> 0.000</td> <td>    0.262</td> <td>    0.531</td>\n",
       "</tr>\n",
       "<tr>\n",
       "  <th>fuel_Petrol</th>            <td>    0.3282</td> <td>    0.059</td> <td>    5.589</td> <td> 0.000</td> <td>    0.213</td> <td>    0.443</td>\n",
       "</tr>\n",
       "<tr>\n",
       "  <th>transmission_Automatic</th> <td>    0.4635</td> <td>    0.065</td> <td>    7.140</td> <td> 0.000</td> <td>    0.336</td> <td>    0.591</td>\n",
       "</tr>\n",
       "<tr>\n",
       "  <th>transmission_Manual</th>    <td>    0.2611</td> <td>    0.063</td> <td>    4.124</td> <td> 0.000</td> <td>    0.137</td> <td>    0.385</td>\n",
       "</tr>\n",
       "</table>\n",
       "<table class=\"simpletable\">\n",
       "<tr>\n",
       "  <th>Omnibus:</th>       <td>275.412</td> <th>  Durbin-Watson:     </th> <td>   2.027</td>\n",
       "</tr>\n",
       "<tr>\n",
       "  <th>Prob(Omnibus):</th> <td> 0.000</td>  <th>  Jarque-Bera (JB):  </th> <td> 358.267</td>\n",
       "</tr>\n",
       "<tr>\n",
       "  <th>Skew:</th>          <td>-0.498</td>  <th>  Prob(JB):          </th> <td>1.60e-78</td>\n",
       "</tr>\n",
       "<tr>\n",
       "  <th>Kurtosis:</th>      <td> 3.764</td>  <th>  Cond. No.          </th> <td>6.44e+17</td>\n",
       "</tr>\n",
       "</table><br/><br/>Notes:<br/>[1] Standard Errors assume that the covariance matrix of the errors is correctly specified.<br/>[2] The smallest eigenvalue is 9.12e-31. This might indicate that there are<br/>strong multicollinearity problems or that the design matrix is singular."
      ],
      "text/plain": [
       "<class 'statsmodels.iolib.summary.Summary'>\n",
       "\"\"\"\n",
       "                            OLS Regression Results                            \n",
       "==============================================================================\n",
       "Dep. Variable:          selling_price   R-squared:                       0.840\n",
       "Model:                            OLS   Adj. R-squared:                  0.840\n",
       "Method:                 Least Squares   F-statistic:                     3589.\n",
       "Date:                Wed, 22 Feb 2023   Prob (F-statistic):               0.00\n",
       "Time:                        13:11:33   Log-Likelihood:                -1716.4\n",
       "No. Observations:                5459   AIC:                             3451.\n",
       "Df Residuals:                    5450   BIC:                             3510.\n",
       "Df Model:                           8                                         \n",
       "Covariance Type:            nonrobust                                         \n",
       "==========================================================================================\n",
       "                             coef    std err          t      P>|t|      [0.025      0.975]\n",
       "------------------------------------------------------------------------------------------\n",
       "const                      0.7246      0.127      5.702      0.000       0.475       0.974\n",
       "years_old                 -1.1100      0.013    -86.351      0.000      -1.135      -1.085\n",
       "fuel_efficiency            0.3912      0.039     10.111      0.000       0.315       0.467\n",
       "engine_power               1.1019      0.030     37.048      0.000       1.044       1.160\n",
       "low_budget_brand          -0.1221      0.010    -11.723      0.000      -0.143      -0.102\n",
       "high_budget_brand          0.8766      0.025     35.062      0.000       0.828       0.926\n",
       "seats_0-4                  0.2316      0.063      3.652      0.000       0.107       0.356\n",
       "seats_5+                   0.4930      0.069      7.167      0.000       0.358       0.628\n",
       "fuel_Diesel                0.3964      0.069      5.768      0.000       0.262       0.531\n",
       "fuel_Petrol                0.3282      0.059      5.589      0.000       0.213       0.443\n",
       "transmission_Automatic     0.4635      0.065      7.140      0.000       0.336       0.591\n",
       "transmission_Manual        0.2611      0.063      4.124      0.000       0.137       0.385\n",
       "==============================================================================\n",
       "Omnibus:                      275.412   Durbin-Watson:                   2.027\n",
       "Prob(Omnibus):                  0.000   Jarque-Bera (JB):              358.267\n",
       "Skew:                          -0.498   Prob(JB):                     1.60e-78\n",
       "Kurtosis:                       3.764   Cond. No.                     6.44e+17\n",
       "==============================================================================\n",
       "\n",
       "Notes:\n",
       "[1] Standard Errors assume that the covariance matrix of the errors is correctly specified.\n",
       "[2] The smallest eigenvalue is 9.12e-31. This might indicate that there are\n",
       "strong multicollinearity problems or that the design matrix is singular.\n",
       "\"\"\""
      ]
     },
     "execution_count": 44,
     "metadata": {},
     "output_type": "execute_result"
    }
   ],
   "source": [
    "X_train_with_intercept = sm.add_constant(X_train)\n",
    "model = sm.OLS(y_train,X_train_with_intercept).fit()\n",
    "model.summary()"
   ]
  },
  {
   "cell_type": "markdown",
   "metadata": {},
   "source": [
    "<p style=\"margin: 10px 0;\"></p>"
   ]
  },
  {
   "cell_type": "markdown",
   "metadata": {},
   "source": [
    "<font msize=\"3\"><b>Final Check the MSE before creating my predicitive model</b></font>"
   ]
  },
  {
   "cell_type": "code",
   "execution_count": 45,
   "metadata": {},
   "outputs": [],
   "source": [
    "linreg = LinearRegression()\n",
    "linreg.fit(X_train, y_train)\n",
    "\n",
    "y_hat_train = linreg.predict(X_train)\n",
    "y_hat_test = linreg.predict(X_test)"
   ]
  },
  {
   "cell_type": "code",
   "execution_count": 46,
   "metadata": {},
   "outputs": [
    {
     "name": "stdout",
     "output_type": "stream",
     "text": [
      "Train Mean Squared Error: 0.1098027411664288\n",
      "Test Mean Squared Error: 0.11009241655809383\n"
     ]
    }
   ],
   "source": [
    "#calculate the MSE\n",
    "train_mse = mean_squared_error(y_train, y_hat_train)\n",
    "test_mse = mean_squared_error(y_test, y_hat_test)\n",
    "print('Train Mean Squared Error:', train_mse)\n",
    "print('Test Mean Squared Error:', test_mse)"
   ]
  },
  {
   "cell_type": "code",
   "execution_count": 47,
   "metadata": {},
   "outputs": [
    {
     "data": {
      "image/png": "[encoded data removed]",
      "text/plain": [
       "<Figure size 640x480 with 1 Axes>"
      ]
     },
     "metadata": {},
     "output_type": "display_data"
    }
   ],
   "source": [
    "cross_val_results = cross_validate(linreg, X_train, y_train, scoring=\"neg_mean_squared_error\", return_train_score=True)\n",
    "# Negative signs in front to convert back to MSE from -MSE\n",
    "train_avg = -cross_val_results[\"train_score\"].mean()\n",
    "test_avg = -cross_val_results[\"test_score\"].mean()\n",
    "\n",
    "colors = [\"#00B3E6\", \"#FFC51B\"]\n",
    "labels = [\"Train\", \"Test\"]\n",
    "fig, ax = plt.subplots()\n",
    "ax.bar(labels, [train_avg, test_avg], color=colors)\n",
    "ax.set_ylabel(\"MSE\")\n",
    "fig.suptitle(\"Average Cross-Validation Scores\");"
   ]
  },
  {
   "cell_type": "code",
   "execution_count": 48,
   "metadata": {},
   "outputs": [
    {
     "name": "stdout",
     "output_type": "stream",
     "text": [
      "Cross Validation Test Mean Squared Error: 0.11023147401160502\n",
      "Cross Validation Train Mean Squared Error: 0.10980483897543672\n"
     ]
    }
   ],
   "source": [
    "#Cross Validation MSE\n",
    "print('Cross Validation Test Mean Squared Error:', test_avg)\n",
    "print('Cross Validation Train Mean Squared Error:', train_avg)"
   ]
  },
  {
   "cell_type": "markdown",
   "metadata": {},
   "source": [
    "<p style=\"margin: 10px 0;\"></p>"
   ]
  },
  {
   "cell_type": "markdown",
   "metadata": {},
   "source": [
    "<font msize=\"3\"><b>The conclusion on iteration 3 is:</b></font>  \n",
    "<font msize=\"3\">1) The mean square error is accurate.</font>  \n",
    "<font msize=\"3\">2) The OLS suggests the p-values of all variables are acceptable.</font>  \n",
    "<font msize=\"3\">3) The Adj. R-squared suggest there is an acceptable goodness of fit.</font>  \n",
    "<font msize=\"3\">4) Rerady to create a Predictive Model.</font>  "
   ]
  },
  {
   "cell_type": "markdown",
   "metadata": {},
   "source": [
    "<p style=\"margin: 10px 0;\"></p>"
   ]
  },
  {
   "cell_type": "markdown",
   "metadata": {},
   "source": [
    ".\n",
    "\n",
    "\n",
    "\n",
    "<font size=\"7\">Creating A Predictive Model</font>"
   ]
  },
  {
   "cell_type": "markdown",
   "metadata": {},
   "source": [
    "<font size=\"3\">With the purpose of determining the value of a Second hand vehicle, I will create a model to predict the price.</font>"
   ]
  },
  {
   "cell_type": "markdown",
   "metadata": {},
   "source": [
    "<p style=\"margin: 10px 0;\"></p>"
   ]
  },
  {
   "cell_type": "markdown",
   "metadata": {},
   "source": [
    "<font size=\"3\">it is necessary to create a new data frame consisting of my test predictor values.</font>"
   ]
  },
  {
   "cell_type": "code",
   "execution_count": 49,
   "metadata": {},
   "outputs": [],
   "source": [
    "# getting the column names for a new df\n",
    "used_cols = ['years_old', 'fuel_efficiency', 'engine_power', 'low_budget_brand', 'high_budget_brand', 'seats_0-4', 'seats_5+', 'fuel_Diesel', 'fuel_Petrol', 'transmission_Automatic', 'transmission_Manual']"
   ]
  },
  {
   "cell_type": "code",
   "execution_count": null,
   "metadata": {},
   "outputs": [],
   "source": []
  },
  {
   "cell_type": "code",
   "execution_count": 50,
   "metadata": {},
   "outputs": [
    {
     "data": {
      "text/html": [
       "<div>\n",
       "<style scoped>\n",
       "    .dataframe tbody tr th:only-of-type {\n",
       "        vertical-align: middle;\n",
       "    }\n",
       "\n",
       "    .dataframe tbody tr th {\n",
       "        vertical-align: top;\n",
       "    }\n",
       "\n",
       "    .dataframe thead th {\n",
       "        text-align: right;\n",
       "    }\n",
       "</style>\n",
       "<table border=\"1\" class=\"dataframe\">\n",
       "  <thead>\n",
       "    <tr style=\"text-align: right;\">\n",
       "      <th></th>\n",
       "      <th>years_old</th>\n",
       "      <th>fuel_efficiency</th>\n",
       "      <th>engine_power</th>\n",
       "      <th>low_budget_brand</th>\n",
       "      <th>high_budget_brand</th>\n",
       "      <th>seats_0-4</th>\n",
       "      <th>seats_5+</th>\n",
       "      <th>fuel_Diesel</th>\n",
       "      <th>fuel_Petrol</th>\n",
       "      <th>transmission_Automatic</th>\n",
       "      <th>transmission_Manual</th>\n",
       "    </tr>\n",
       "  </thead>\n",
       "  <tbody>\n",
       "    <tr>\n",
       "      <th>0</th>\n",
       "      <td>6</td>\n",
       "      <td>19</td>\n",
       "      <td>1500</td>\n",
       "      <td>1</td>\n",
       "      <td>0</td>\n",
       "      <td>1</td>\n",
       "      <td>0</td>\n",
       "      <td>1</td>\n",
       "      <td>0</td>\n",
       "      <td>1</td>\n",
       "      <td>0</td>\n",
       "    </tr>\n",
       "  </tbody>\n",
       "</table>\n",
       "</div>"
      ],
      "text/plain": [
       "  years_old fuel_efficiency engine_power low_budget_brand high_budget_brand  \\\n",
       "0         6              19         1500                1                 0   \n",
       "\n",
       "  seats_0-4 seats_5+ fuel_Diesel fuel_Petrol transmission_Automatic  \\\n",
       "0         1        0           1           0                      1   \n",
       "\n",
       "  transmission_Manual  \n",
       "0                   0  "
      ]
     },
     "execution_count": 50,
     "metadata": {},
     "output_type": "execute_result"
    }
   ],
   "source": [
    "#create new data frame with the property values\n",
    "new_row = pd.DataFrame(columns=used_cols)\n",
    "new_row = pd.concat([new_row, pd.DataFrame({'years_old': 6,\n",
    "                          'fuel_efficiency': 19,\n",
    "                          'engine_power': 1500,\n",
    "                          'low_budget_brand': 1,\n",
    "                          'high_budget_brand': 0,\n",
    "                          'seats_0-4': 1,\n",
    "                          'seats_5+': 0,\n",
    "                          'fuel_Diesel': 1,\n",
    "                          'fuel_Petrol': 0,\n",
    "                          'transmission_Automatic': 1,\n",
    "                          'transmission_Manual': 0}, index=[0])])\n",
    "new_row"
   ]
  },
  {
   "cell_type": "markdown",
   "metadata": {},
   "source": [
    "<p style=\"margin: 10px 0;\"></p>"
   ]
  },
  {
   "cell_type": "markdown",
   "metadata": {},
   "source": [
    "<font size=\"3\">To ensure compatibility with my predictive model, it is imperative to apply the same logarithmic transformation that was used during the modeling phase.\n",
    "\n",
    "</font>"
   ]
  },
  {
   "cell_type": "code",
   "execution_count": 51,
   "metadata": {},
   "outputs": [
    {
     "data": {
      "text/html": [
       "<div>\n",
       "<style scoped>\n",
       "    .dataframe tbody tr th:only-of-type {\n",
       "        vertical-align: middle;\n",
       "    }\n",
       "\n",
       "    .dataframe tbody tr th {\n",
       "        vertical-align: top;\n",
       "    }\n",
       "\n",
       "    .dataframe thead th {\n",
       "        text-align: right;\n",
       "    }\n",
       "</style>\n",
       "<table border=\"1\" class=\"dataframe\">\n",
       "  <thead>\n",
       "    <tr style=\"text-align: right;\">\n",
       "      <th></th>\n",
       "      <th>years_old_log</th>\n",
       "      <th>fuel_efficiency_log</th>\n",
       "      <th>engine_power_log</th>\n",
       "    </tr>\n",
       "  </thead>\n",
       "  <tbody>\n",
       "    <tr>\n",
       "      <th>0</th>\n",
       "      <td>1.791759</td>\n",
       "      <td>2.944439</td>\n",
       "      <td>7.31322</td>\n",
       "    </tr>\n",
       "  </tbody>\n",
       "</table>\n",
       "</div>"
      ],
      "text/plain": [
       "   years_old_log  fuel_efficiency_log  engine_power_log\n",
       "0       1.791759             2.944439           7.31322"
      ]
     },
     "execution_count": 51,
     "metadata": {},
     "output_type": "execute_result"
    }
   ],
   "source": [
    "# first we'll tackle the continuous columns\n",
    "continuous = ['years_old', 'fuel_efficiency', 'engine_power']\n",
    "\n",
    "new_row_cont = new_row[continuous]\n",
    "\n",
    "# log features\n",
    "log_names = [f'{column}_log' for column in new_row_cont.columns]\n",
    "\n",
    "new_row_log = np.log(new_row_cont.astype(float)) # won't work unless float\n",
    "new_row_log.columns = log_names\n",
    "\n",
    "new_row_log"
   ]
  },
  {
   "cell_type": "code",
   "execution_count": 52,
   "metadata": {},
   "outputs": [],
   "source": [
    "continuous = ['years_old', 'fuel_efficiency', 'engine_power']\n",
    "categoricals = ['low_budget_brand', 'high_budget_brand', 'seats_0-4', 'seats_5+', 'fuel_Diesel', 'fuel_Petrol', 'transmission_Automatic', 'transmission_Manual']"
   ]
  },
  {
   "cell_type": "markdown",
   "metadata": {},
   "source": [
    "<p style=\"margin: 10px 0;\"></p>"
   ]
  },
  {
   "cell_type": "markdown",
   "metadata": {},
   "source": [
    "<font size=\"3\">Now the data has been transformed, I can join it back together\n",
    "\n",
    "</font>"
   ]
  },
  {
   "cell_type": "code",
   "execution_count": 53,
   "metadata": {
    "scrolled": true
   },
   "outputs": [
    {
     "data": {
      "text/html": [
       "<div>\n",
       "<style scoped>\n",
       "    .dataframe tbody tr th:only-of-type {\n",
       "        vertical-align: middle;\n",
       "    }\n",
       "\n",
       "    .dataframe tbody tr th {\n",
       "        vertical-align: top;\n",
       "    }\n",
       "\n",
       "    .dataframe thead th {\n",
       "        text-align: right;\n",
       "    }\n",
       "</style>\n",
       "<table border=\"1\" class=\"dataframe\">\n",
       "  <thead>\n",
       "    <tr style=\"text-align: right;\">\n",
       "      <th></th>\n",
       "      <th>years_old_log</th>\n",
       "      <th>fuel_efficiency_log</th>\n",
       "      <th>engine_power_log</th>\n",
       "      <th>low_budget_brand</th>\n",
       "      <th>high_budget_brand</th>\n",
       "      <th>seats_0-4</th>\n",
       "      <th>seats_5+</th>\n",
       "      <th>fuel_Diesel</th>\n",
       "      <th>fuel_Petrol</th>\n",
       "      <th>transmission_Automatic</th>\n",
       "      <th>transmission_Manual</th>\n",
       "    </tr>\n",
       "  </thead>\n",
       "  <tbody>\n",
       "    <tr>\n",
       "      <th>0</th>\n",
       "      <td>1.791759</td>\n",
       "      <td>2.944439</td>\n",
       "      <td>7.31322</td>\n",
       "      <td>1</td>\n",
       "      <td>0</td>\n",
       "      <td>1</td>\n",
       "      <td>0</td>\n",
       "      <td>1</td>\n",
       "      <td>0</td>\n",
       "      <td>1</td>\n",
       "      <td>0</td>\n",
       "    </tr>\n",
       "  </tbody>\n",
       "</table>\n",
       "</div>"
      ],
      "text/plain": [
       "   years_old_log  fuel_efficiency_log  engine_power_log low_budget_brand  \\\n",
       "0       1.791759             2.944439           7.31322                1   \n",
       "\n",
       "  high_budget_brand seats_0-4 seats_5+ fuel_Diesel fuel_Petrol  \\\n",
       "0                 0         1        0           1           0   \n",
       "\n",
       "  transmission_Automatic transmission_Manual  \n",
       "0                      1                   0  "
      ]
     },
     "execution_count": 53,
     "metadata": {},
     "output_type": "execute_result"
    }
   ],
   "source": [
    "new_row_cat = new_row[categoricals]\n",
    "new_row_processed = pd.concat([new_row_log, new_row_cat], axis=1)\n",
    "new_row_processed"
   ]
  },
  {
   "cell_type": "markdown",
   "metadata": {},
   "source": [
    "<p style=\"margin: 10px 0;\"></p>"
   ]
  },
  {
   "cell_type": "markdown",
   "metadata": {},
   "source": [
    "<font msize=\"3\"><b>Create Predicitive Model</b></font>"
   ]
  },
  {
   "cell_type": "markdown",
   "metadata": {},
   "source": [
    "<font size=\"3\">Finally, we can create our predicitive model</font>"
   ]
  },
  {
   "cell_type": "code",
   "execution_count": 54,
   "metadata": {},
   "outputs": [
    {
     "data": {
      "text/plain": [
       "array([8.91699219])"
      ]
     },
     "execution_count": 54,
     "metadata": {},
     "output_type": "execute_result"
    }
   ],
   "source": [
    "new_row_processed = new_row_processed.rename(columns={'engine_power_log': 'engine_power', 'fuel_efficiency_log': 'fuel_efficiency', 'years_old_log': 'years_old'})\n",
    "new_row_pred_log = linreg.predict(new_row_processed)\n",
    "new_row_pred_log"
   ]
  },
  {
   "cell_type": "markdown",
   "metadata": {},
   "source": [
    "<p style=\"margin: 10px 0;\"></p>"
   ]
  },
  {
   "cell_type": "markdown",
   "metadata": {},
   "source": [
    "<font msize=\"3\"><b>Exponentiate result</b></font>"
   ]
  },
  {
   "cell_type": "markdown",
   "metadata": {},
   "source": [
    "<font size=\"3\">Having generated our prediction, it is necessary to apply exponentiation in order to obtain the actual value. (Exponentiation is used to transform the results back to the original scale).\n",
    "\n",
    "</font>"
   ]
  },
  {
   "cell_type": "code",
   "execution_count": 58,
   "metadata": {},
   "outputs": [
    {
     "name": "stdout",
     "output_type": "stream",
     "text": [
      "The predicted vehicle price is $7457.00\n"
     ]
    }
   ],
   "source": [
    "# prediction needs to be scaled and exponentiated\n",
    "predicted_price = np.exp(new_row_pred_log)\n",
    "\n",
    "predicted_price = int(predicted_price)\n",
    "print(\"The predicted vehicle price is ${:.2f}\".format(predicted_price))"
   ]
  },
  {
   "cell_type": "markdown",
   "metadata": {},
   "source": [
    "<p style=\"margin: 10px 0;\"></p>"
   ]
  },
  {
   "cell_type": "markdown",
   "metadata": {},
   "source": [
    "<font msize=\"3\"><b>The predicted Vehicle price is $7457</b></font>"
   ]
  },
  {
   "cell_type": "markdown",
   "metadata": {},
   "source": [
    "<p style=\"margin: 10px 0;\"></p>"
   ]
  },
  {
   "cell_type": "markdown",
   "metadata": {},
   "source": [
    "<font size=\"3\">To obtain a predicted output, inputting the new values of a vehicle below is all that is required.\n",
    "\n",
    "</font>"
   ]
  },
  {
   "cell_type": "code",
   "execution_count": 56,
   "metadata": {},
   "outputs": [],
   "source": [
    "new_row = pd.concat([new_row, pd.DataFrame({\n",
    "    \n",
    "                          'years_old': 6,\n",
    "    \n",
    "                          'fuel_efficiency': 19,\n",
    "    \n",
    "                          'engine_power': 1500,\n",
    "    \n",
    "                          'low_budget_brand': 1,\n",
    "    \n",
    "                          'high_budget_brand': 0,\n",
    "    \n",
    "                          'seats_0-4': 1,\n",
    "    \n",
    "                          'seats_5+': 0,\n",
    "    \n",
    "                          'fuel_Diesel': 1,\n",
    "    \n",
    "                          'fuel_Petrol': 0,\n",
    "    \n",
    "                          'transmission_Automatic': 1,\n",
    "    \n",
    "                          'transmission_Manual': 0\n",
    "}, index=[0])])"
   ]
  }
 ],
 "metadata": {
  "kernelspec": {
   "display_name": "Python 3 (ipykernel)",
   "language": "python",
   "name": "python3"
  },
  "language_info": {
   "codemirror_mode": {
    "name": "ipython",
    "version": 3
   },
   "file_extension": ".py",
   "mimetype": "text/x-python",
   "name": "python",
   "nbconvert_exporter": "python",
   "pygments_lexer": "ipython3",
   "version": "3.9.13"
  }
 },
 "nbformat": 4,
 "nbformat_minor": 2
}
